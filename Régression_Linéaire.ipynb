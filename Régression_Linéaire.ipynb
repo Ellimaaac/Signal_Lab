{
 "cells": [
  {
   "cell_type": "markdown",
   "metadata": {
    "id": "fitv0OOcAwUV"
   },
   "source": [
    "# TP: Machine Learning\n",
    "\n",
    "## TP1: Linear Regression (4h) \n",
    "\n",
    "### Introduction\n",
    "La régression linéaire est une famille d’algorithmes d’apprentissage automatique visant à ajuster un\n",
    "modèle linéaire à un ensemble de données. Les applications vont de la reconstruction de signaux à\n",
    "la description empirique. L’ensemble de données considéré a été produit par l’Organisation mondiale\n",
    "de la santé. Il regroupe l’évolution de 20 caractéristiques sur 15 ans et dans de nombreux pays. L’un\n",
    "des objectifs de ce TP est de manipuler ce jeu de données et d’essayer de prédire l’évolution de\n",
    "l’espérance de vie à travers différentes variables variables.\n",
    "\n",
    "**Objectifs :**\n",
    "\n",
    " - Utiliser et configurer un environnement iPython.\n",
    " - Manipuler et visualiser un jeu des données reel.\n",
    " - Construire une régression linéaire simple ou multivariable.\n",
    " - Appliquer un modèle de régression linéaire sur un jeu des données reel.\n",
    " - Évaluer la qualité de l’ajustement d’un modèle de régression linéaire via R 2 .\n",
    "\n",
    "Le notebook correspondant à ce TP est disponible sur Moodle. Répondez aux questions directement\n",
    "sur ce notebook. Le notebook doit être remis avant la prochaine session. Le travail peut être fait en binôme.\n"
   ]
  },
  {
   "cell_type": "markdown",
   "metadata": {
    "id": "zByLC3qEH6Tz"
   },
   "source": [
    "## 1 : Utiliser et configurer un environnement iPython"
   ]
  },
  {
   "cell_type": "markdown",
   "metadata": {
    "id": "Ko9W3iTnIISS"
   },
   "source": [
    "**A faire 1.1**\n",
    "\n",
    "Exécuter les cellules suivantes :"
   ]
  },
  {
   "cell_type": "code",
   "execution_count": 1,
   "metadata": {
    "id": "H8SLi4uEBG3K"
   },
   "outputs": [],
   "source": [
    "a = 3\n",
    "b = 4\n",
    "c = a + b"
   ]
  },
  {
   "cell_type": "code",
   "execution_count": 2,
   "metadata": {
    "id": "8hM_aMdCIvZK"
   },
   "outputs": [],
   "source": [
    "c = c"
   ]
  },
  {
   "cell_type": "code",
   "execution_count": 3,
   "metadata": {
    "id": "YqOVDV_7ISXN"
   },
   "outputs": [
    {
     "name": "stdout",
     "output_type": "stream",
     "text": [
      "7\n"
     ]
    }
   ],
   "source": [
    "print(c)"
   ]
  },
  {
   "cell_type": "code",
   "execution_count": 4,
   "metadata": {
    "id": "bSy3G2LbFH5q"
   },
   "outputs": [
    {
     "data": {
      "text/plain": [
       "7"
      ]
     },
     "execution_count": 4,
     "metadata": {},
     "output_type": "execute_result"
    }
   ],
   "source": [
    "c"
   ]
  },
  {
   "cell_type": "markdown",
   "metadata": {
    "id": "7ToVYPUPI0ib"
   },
   "source": [
    "**QUESTION 1**\n",
    "\n",
    "Qu'est-ce qui déclenche l'affichage de la sortie ?\n",
    "\n",
    "Si l'on ne stocke pas une données dans une variable, elle sera  affiché en sortie."
   ]
  },
  {
   "cell_type": "markdown",
   "metadata": {
    "id": "04BeCMcuKDpj"
   },
   "source": [
    "**A faire 1.2**\n",
    "\n",
    "Exécutez les cellules suivantes :"
   ]
  },
  {
   "cell_type": "code",
   "execution_count": 5,
   "metadata": {
    "id": "jwKMM5ofJZL3"
   },
   "outputs": [],
   "source": [
    "import shutil\n",
    "import pkgutil\n",
    "\n",
    "\n",
    "def show_acceptable_modules():\n",
    "    line = '-' * 100\n",
    "    print('{}\\n{:^30}|{:^20}\\n{}'.format(line, 'Module', 'Location', line))\n",
    "    for entry in pkgutil.iter_modules():\n",
    "        print('{:30}| {}'.format(entry[1], entry[0].path))"
   ]
  },
  {
   "cell_type": "code",
   "execution_count": 6,
   "metadata": {
    "id": "D0hybzmjKI0P"
   },
   "outputs": [
    {
     "name": "stdout",
     "output_type": "stream",
     "text": [
      "----------------------------------------------------------------------------------------------------\n",
      "            Module            |      Location      \n",
      "----------------------------------------------------------------------------------------------------\n",
      "__future__                    | /usr/lib/python3.10\n",
      "_aix_support                  | /usr/lib/python3.10\n",
      "_bootsubprocess               | /usr/lib/python3.10\n",
      "_collections_abc              | /usr/lib/python3.10\n",
      "_compat_pickle                | /usr/lib/python3.10\n",
      "_compression                  | /usr/lib/python3.10\n",
      "_distutils_system_mod         | /usr/lib/python3.10\n",
      "_markupbase                   | /usr/lib/python3.10\n",
      "_osx_support                  | /usr/lib/python3.10\n",
      "_py_abc                       | /usr/lib/python3.10\n",
      "_pydecimal                    | /usr/lib/python3.10\n",
      "_pyio                         | /usr/lib/python3.10\n",
      "_sitebuiltins                 | /usr/lib/python3.10\n",
      "_strptime                     | /usr/lib/python3.10\n",
      "_sysconfigdata__linux_x86_64-linux-gnu| /usr/lib/python3.10\n",
      "_sysconfigdata__x86_64-linux-gnu| /usr/lib/python3.10\n",
      "_threading_local              | /usr/lib/python3.10\n",
      "_weakrefset                   | /usr/lib/python3.10\n",
      "abc                           | /usr/lib/python3.10\n",
      "aifc                          | /usr/lib/python3.10\n",
      "antigravity                   | /usr/lib/python3.10\n",
      "argparse                      | /usr/lib/python3.10\n",
      "ast                           | /usr/lib/python3.10\n",
      "asynchat                      | /usr/lib/python3.10\n",
      "asyncio                       | /usr/lib/python3.10\n",
      "asyncore                      | /usr/lib/python3.10\n",
      "base64                        | /usr/lib/python3.10\n",
      "bdb                           | /usr/lib/python3.10\n",
      "binhex                        | /usr/lib/python3.10\n",
      "bisect                        | /usr/lib/python3.10\n",
      "bz2                           | /usr/lib/python3.10\n",
      "cProfile                      | /usr/lib/python3.10\n",
      "calendar                      | /usr/lib/python3.10\n",
      "cgi                           | /usr/lib/python3.10\n",
      "cgitb                         | /usr/lib/python3.10\n",
      "chunk                         | /usr/lib/python3.10\n",
      "cmd                           | /usr/lib/python3.10\n",
      "code                          | /usr/lib/python3.10\n",
      "codecs                        | /usr/lib/python3.10\n",
      "codeop                        | /usr/lib/python3.10\n",
      "collections                   | /usr/lib/python3.10\n",
      "colorsys                      | /usr/lib/python3.10\n",
      "compileall                    | /usr/lib/python3.10\n",
      "concurrent                    | /usr/lib/python3.10\n",
      "configparser                  | /usr/lib/python3.10\n",
      "contextlib                    | /usr/lib/python3.10\n",
      "contextvars                   | /usr/lib/python3.10\n",
      "copy                          | /usr/lib/python3.10\n",
      "copyreg                       | /usr/lib/python3.10\n",
      "crypt                         | /usr/lib/python3.10\n",
      "csv                           | /usr/lib/python3.10\n",
      "ctypes                        | /usr/lib/python3.10\n",
      "curses                        | /usr/lib/python3.10\n",
      "dataclasses                   | /usr/lib/python3.10\n",
      "datetime                      | /usr/lib/python3.10\n",
      "dbm                           | /usr/lib/python3.10\n",
      "decimal                       | /usr/lib/python3.10\n",
      "difflib                       | /usr/lib/python3.10\n",
      "dis                           | /usr/lib/python3.10\n",
      "distutils                     | /usr/lib/python3.10\n",
      "doctest                       | /usr/lib/python3.10\n",
      "email                         | /usr/lib/python3.10\n",
      "encodings                     | /usr/lib/python3.10\n",
      "ensurepip                     | /usr/lib/python3.10\n",
      "enum                          | /usr/lib/python3.10\n",
      "filecmp                       | /usr/lib/python3.10\n",
      "fileinput                     | /usr/lib/python3.10\n",
      "fnmatch                       | /usr/lib/python3.10\n",
      "fractions                     | /usr/lib/python3.10\n",
      "ftplib                        | /usr/lib/python3.10\n",
      "functools                     | /usr/lib/python3.10\n",
      "genericpath                   | /usr/lib/python3.10\n",
      "getopt                        | /usr/lib/python3.10\n",
      "getpass                       | /usr/lib/python3.10\n",
      "gettext                       | /usr/lib/python3.10\n",
      "glob                          | /usr/lib/python3.10\n",
      "graphlib                      | /usr/lib/python3.10\n",
      "gzip                          | /usr/lib/python3.10\n",
      "hashlib                       | /usr/lib/python3.10\n",
      "heapq                         | /usr/lib/python3.10\n",
      "hmac                          | /usr/lib/python3.10\n",
      "html                          | /usr/lib/python3.10\n",
      "http                          | /usr/lib/python3.10\n",
      "imaplib                       | /usr/lib/python3.10\n",
      "imghdr                        | /usr/lib/python3.10\n",
      "imp                           | /usr/lib/python3.10\n",
      "importlib                     | /usr/lib/python3.10\n",
      "inspect                       | /usr/lib/python3.10\n",
      "io                            | /usr/lib/python3.10\n",
      "ipaddress                     | /usr/lib/python3.10\n",
      "json                          | /usr/lib/python3.10\n",
      "keyword                       | /usr/lib/python3.10\n",
      "lib2to3                       | /usr/lib/python3.10\n",
      "linecache                     | /usr/lib/python3.10\n",
      "locale                        | /usr/lib/python3.10\n",
      "logging                       | /usr/lib/python3.10\n",
      "lzma                          | /usr/lib/python3.10\n",
      "mailbox                       | /usr/lib/python3.10\n",
      "mailcap                       | /usr/lib/python3.10\n",
      "mimetypes                     | /usr/lib/python3.10\n",
      "modulefinder                  | /usr/lib/python3.10\n",
      "multiprocessing               | /usr/lib/python3.10\n",
      "netrc                         | /usr/lib/python3.10\n",
      "nntplib                       | /usr/lib/python3.10\n",
      "ntpath                        | /usr/lib/python3.10\n",
      "nturl2path                    | /usr/lib/python3.10\n",
      "numbers                       | /usr/lib/python3.10\n",
      "opcode                        | /usr/lib/python3.10\n",
      "operator                      | /usr/lib/python3.10\n",
      "optparse                      | /usr/lib/python3.10\n",
      "os                            | /usr/lib/python3.10\n",
      "pathlib                       | /usr/lib/python3.10\n",
      "pdb                           | /usr/lib/python3.10\n",
      "pickle                        | /usr/lib/python3.10\n",
      "pickletools                   | /usr/lib/python3.10\n",
      "pipes                         | /usr/lib/python3.10\n",
      "pkgutil                       | /usr/lib/python3.10\n",
      "platform                      | /usr/lib/python3.10\n",
      "plistlib                      | /usr/lib/python3.10\n",
      "poplib                        | /usr/lib/python3.10\n",
      "posixpath                     | /usr/lib/python3.10\n",
      "pprint                        | /usr/lib/python3.10\n",
      "profile                       | /usr/lib/python3.10\n",
      "pstats                        | /usr/lib/python3.10\n",
      "pty                           | /usr/lib/python3.10\n",
      "py_compile                    | /usr/lib/python3.10\n",
      "pyclbr                        | /usr/lib/python3.10\n",
      "pydoc                         | /usr/lib/python3.10\n",
      "pydoc_data                    | /usr/lib/python3.10\n",
      "queue                         | /usr/lib/python3.10\n",
      "quopri                        | /usr/lib/python3.10\n",
      "random                        | /usr/lib/python3.10\n",
      "re                            | /usr/lib/python3.10\n",
      "reprlib                       | /usr/lib/python3.10\n",
      "rlcompleter                   | /usr/lib/python3.10\n",
      "runpy                         | /usr/lib/python3.10\n",
      "sched                         | /usr/lib/python3.10\n",
      "secrets                       | /usr/lib/python3.10\n",
      "selectors                     | /usr/lib/python3.10\n",
      "shelve                        | /usr/lib/python3.10\n",
      "shlex                         | /usr/lib/python3.10\n",
      "shutil                        | /usr/lib/python3.10\n",
      "signal                        | /usr/lib/python3.10\n",
      "site                          | /usr/lib/python3.10\n",
      "sitecustomize                 | /usr/lib/python3.10\n",
      "smtpd                         | /usr/lib/python3.10\n",
      "smtplib                       | /usr/lib/python3.10\n",
      "sndhdr                        | /usr/lib/python3.10\n",
      "socket                        | /usr/lib/python3.10\n",
      "socketserver                  | /usr/lib/python3.10\n",
      "sqlite3                       | /usr/lib/python3.10\n",
      "sre_compile                   | /usr/lib/python3.10\n",
      "sre_constants                 | /usr/lib/python3.10\n",
      "sre_parse                     | /usr/lib/python3.10\n",
      "ssl                           | /usr/lib/python3.10\n",
      "stat                          | /usr/lib/python3.10\n",
      "statistics                    | /usr/lib/python3.10\n",
      "string                        | /usr/lib/python3.10\n",
      "stringprep                    | /usr/lib/python3.10\n",
      "struct                        | /usr/lib/python3.10\n",
      "subprocess                    | /usr/lib/python3.10\n",
      "sunau                         | /usr/lib/python3.10\n",
      "symtable                      | /usr/lib/python3.10\n",
      "sysconfig                     | /usr/lib/python3.10\n",
      "tabnanny                      | /usr/lib/python3.10\n",
      "tarfile                       | /usr/lib/python3.10\n",
      "telnetlib                     | /usr/lib/python3.10\n",
      "tempfile                      | /usr/lib/python3.10\n",
      "test                          | /usr/lib/python3.10\n",
      "textwrap                      | /usr/lib/python3.10\n",
      "this                          | /usr/lib/python3.10\n",
      "threading                     | /usr/lib/python3.10\n",
      "timeit                        | /usr/lib/python3.10\n",
      "token                         | /usr/lib/python3.10\n",
      "tokenize                      | /usr/lib/python3.10\n",
      "trace                         | /usr/lib/python3.10\n",
      "traceback                     | /usr/lib/python3.10\n",
      "tracemalloc                   | /usr/lib/python3.10\n",
      "tty                           | /usr/lib/python3.10\n",
      "turtle                        | /usr/lib/python3.10\n",
      "types                         | /usr/lib/python3.10\n",
      "typing                        | /usr/lib/python3.10\n",
      "unittest                      | /usr/lib/python3.10\n",
      "urllib                        | /usr/lib/python3.10\n",
      "uu                            | /usr/lib/python3.10\n",
      "uuid                          | /usr/lib/python3.10\n",
      "venv                          | /usr/lib/python3.10\n",
      "warnings                      | /usr/lib/python3.10\n",
      "wave                          | /usr/lib/python3.10\n",
      "weakref                       | /usr/lib/python3.10\n",
      "webbrowser                    | /usr/lib/python3.10\n",
      "wsgiref                       | /usr/lib/python3.10\n",
      "xdrlib                        | /usr/lib/python3.10\n",
      "xml                           | /usr/lib/python3.10\n",
      "xmlrpc                        | /usr/lib/python3.10\n",
      "zipapp                        | /usr/lib/python3.10\n",
      "zipfile                       | /usr/lib/python3.10\n",
      "zipimport                     | /usr/lib/python3.10\n",
      "zoneinfo                      | /usr/lib/python3.10\n",
      "_asyncio                      | /usr/lib/python3.10/lib-dynload\n",
      "_bz2                          | /usr/lib/python3.10/lib-dynload\n",
      "_codecs_cn                    | /usr/lib/python3.10/lib-dynload\n",
      "_codecs_hk                    | /usr/lib/python3.10/lib-dynload\n",
      "_codecs_iso2022               | /usr/lib/python3.10/lib-dynload\n",
      "_codecs_jp                    | /usr/lib/python3.10/lib-dynload\n",
      "_codecs_kr                    | /usr/lib/python3.10/lib-dynload\n",
      "_codecs_tw                    | /usr/lib/python3.10/lib-dynload\n",
      "_contextvars                  | /usr/lib/python3.10/lib-dynload\n",
      "_crypt                        | /usr/lib/python3.10/lib-dynload\n",
      "_ctypes                       | /usr/lib/python3.10/lib-dynload\n",
      "_ctypes_test                  | /usr/lib/python3.10/lib-dynload\n",
      "_curses                       | /usr/lib/python3.10/lib-dynload\n",
      "_curses_panel                 | /usr/lib/python3.10/lib-dynload\n",
      "_dbm                          | /usr/lib/python3.10/lib-dynload\n",
      "_decimal                      | /usr/lib/python3.10/lib-dynload\n",
      "_gdbm                         | /usr/lib/python3.10/lib-dynload\n",
      "_hashlib                      | /usr/lib/python3.10/lib-dynload\n",
      "_json                         | /usr/lib/python3.10/lib-dynload\n",
      "_lsprof                       | /usr/lib/python3.10/lib-dynload\n",
      "_lzma                         | /usr/lib/python3.10/lib-dynload\n",
      "_multibytecodec               | /usr/lib/python3.10/lib-dynload\n",
      "_multiprocessing              | /usr/lib/python3.10/lib-dynload\n",
      "_opcode                       | /usr/lib/python3.10/lib-dynload\n",
      "_posixshmem                   | /usr/lib/python3.10/lib-dynload\n",
      "_queue                        | /usr/lib/python3.10/lib-dynload\n",
      "_sqlite3                      | /usr/lib/python3.10/lib-dynload\n",
      "_ssl                          | /usr/lib/python3.10/lib-dynload\n",
      "_testbuffer                   | /usr/lib/python3.10/lib-dynload\n",
      "_testcapi                     | /usr/lib/python3.10/lib-dynload\n",
      "_testclinic                   | /usr/lib/python3.10/lib-dynload\n",
      "_testimportmultiple           | /usr/lib/python3.10/lib-dynload\n",
      "_testinternalcapi             | /usr/lib/python3.10/lib-dynload\n",
      "_testmultiphase               | /usr/lib/python3.10/lib-dynload\n",
      "_uuid                         | /usr/lib/python3.10/lib-dynload\n",
      "_xxsubinterpreters            | /usr/lib/python3.10/lib-dynload\n",
      "_xxtestfuzz                   | /usr/lib/python3.10/lib-dynload\n",
      "_zoneinfo                     | /usr/lib/python3.10/lib-dynload\n",
      "audioop                       | /usr/lib/python3.10/lib-dynload\n",
      "mmap                          | /usr/lib/python3.10/lib-dynload\n",
      "nis                           | /usr/lib/python3.10/lib-dynload\n",
      "ossaudiodev                   | /usr/lib/python3.10/lib-dynload\n",
      "readline                      | /usr/lib/python3.10/lib-dynload\n",
      "resource                      | /usr/lib/python3.10/lib-dynload\n",
      "termios                       | /usr/lib/python3.10/lib-dynload\n",
      "xxlimited                     | /usr/lib/python3.10/lib-dynload\n",
      "xxlimited_35                  | /usr/lib/python3.10/lib-dynload\n",
      "IPython                       | /etc/jupyterhub/kernel/2A_ML_env/lib/python3.10/site-packages\n",
      "PIL                           | /etc/jupyterhub/kernel/2A_ML_env/lib/python3.10/site-packages\n",
      "_distutils_hack               | /etc/jupyterhub/kernel/2A_ML_env/lib/python3.10/site-packages\n",
      "asttokens                     | /etc/jupyterhub/kernel/2A_ML_env/lib/python3.10/site-packages\n",
      "backcall                      | /etc/jupyterhub/kernel/2A_ML_env/lib/python3.10/site-packages\n",
      "comm                          | /etc/jupyterhub/kernel/2A_ML_env/lib/python3.10/site-packages\n",
      "contourpy                     | /etc/jupyterhub/kernel/2A_ML_env/lib/python3.10/site-packages\n",
      "cycler                        | /etc/jupyterhub/kernel/2A_ML_env/lib/python3.10/site-packages\n",
      "dateutil                      | /etc/jupyterhub/kernel/2A_ML_env/lib/python3.10/site-packages\n",
      "debugpy                       | /etc/jupyterhub/kernel/2A_ML_env/lib/python3.10/site-packages\n",
      "decorator                     | /etc/jupyterhub/kernel/2A_ML_env/lib/python3.10/site-packages\n",
      "exceptiongroup                | /etc/jupyterhub/kernel/2A_ML_env/lib/python3.10/site-packages\n",
      "executing                     | /etc/jupyterhub/kernel/2A_ML_env/lib/python3.10/site-packages\n",
      "fontTools                     | /etc/jupyterhub/kernel/2A_ML_env/lib/python3.10/site-packages\n",
      "ipykernel                     | /etc/jupyterhub/kernel/2A_ML_env/lib/python3.10/site-packages\n",
      "ipykernel_launcher            | /etc/jupyterhub/kernel/2A_ML_env/lib/python3.10/site-packages\n",
      "jedi                          | /etc/jupyterhub/kernel/2A_ML_env/lib/python3.10/site-packages\n",
      "joblib                        | /etc/jupyterhub/kernel/2A_ML_env/lib/python3.10/site-packages\n",
      "jupyter                       | /etc/jupyterhub/kernel/2A_ML_env/lib/python3.10/site-packages\n",
      "jupyter_client                | /etc/jupyterhub/kernel/2A_ML_env/lib/python3.10/site-packages\n",
      "jupyter_core                  | /etc/jupyterhub/kernel/2A_ML_env/lib/python3.10/site-packages\n",
      "kiwisolver                    | /etc/jupyterhub/kernel/2A_ML_env/lib/python3.10/site-packages\n",
      "matplotlib                    | /etc/jupyterhub/kernel/2A_ML_env/lib/python3.10/site-packages\n",
      "matplotlib_inline             | /etc/jupyterhub/kernel/2A_ML_env/lib/python3.10/site-packages\n",
      "nest_asyncio                  | /etc/jupyterhub/kernel/2A_ML_env/lib/python3.10/site-packages\n",
      "numpy                         | /etc/jupyterhub/kernel/2A_ML_env/lib/python3.10/site-packages\n",
      "packaging                     | /etc/jupyterhub/kernel/2A_ML_env/lib/python3.10/site-packages\n",
      "pandas                        | /etc/jupyterhub/kernel/2A_ML_env/lib/python3.10/site-packages\n",
      "parso                         | /etc/jupyterhub/kernel/2A_ML_env/lib/python3.10/site-packages\n",
      "pexpect                       | /etc/jupyterhub/kernel/2A_ML_env/lib/python3.10/site-packages\n",
      "pickleshare                   | /etc/jupyterhub/kernel/2A_ML_env/lib/python3.10/site-packages\n",
      "pip                           | /etc/jupyterhub/kernel/2A_ML_env/lib/python3.10/site-packages\n",
      "pkg_resources                 | /etc/jupyterhub/kernel/2A_ML_env/lib/python3.10/site-packages\n",
      "platformdirs                  | /etc/jupyterhub/kernel/2A_ML_env/lib/python3.10/site-packages\n",
      "prompt_toolkit                | /etc/jupyterhub/kernel/2A_ML_env/lib/python3.10/site-packages\n",
      "psutil                        | /etc/jupyterhub/kernel/2A_ML_env/lib/python3.10/site-packages\n",
      "ptyprocess                    | /etc/jupyterhub/kernel/2A_ML_env/lib/python3.10/site-packages\n",
      "pure_eval                     | /etc/jupyterhub/kernel/2A_ML_env/lib/python3.10/site-packages\n",
      "pygments                      | /etc/jupyterhub/kernel/2A_ML_env/lib/python3.10/site-packages\n",
      "pylab                         | /etc/jupyterhub/kernel/2A_ML_env/lib/python3.10/site-packages\n",
      "pyparsing                     | /etc/jupyterhub/kernel/2A_ML_env/lib/python3.10/site-packages\n",
      "pytz                          | /etc/jupyterhub/kernel/2A_ML_env/lib/python3.10/site-packages\n",
      "scipy                         | /etc/jupyterhub/kernel/2A_ML_env/lib/python3.10/site-packages\n",
      "setuptools                    | /etc/jupyterhub/kernel/2A_ML_env/lib/python3.10/site-packages\n",
      "six                           | /etc/jupyterhub/kernel/2A_ML_env/lib/python3.10/site-packages\n",
      "sklearn                       | /etc/jupyterhub/kernel/2A_ML_env/lib/python3.10/site-packages\n",
      "stack_data                    | /etc/jupyterhub/kernel/2A_ML_env/lib/python3.10/site-packages\n",
      "threadpoolctl                 | /etc/jupyterhub/kernel/2A_ML_env/lib/python3.10/site-packages\n",
      "tornado                       | /etc/jupyterhub/kernel/2A_ML_env/lib/python3.10/site-packages\n",
      "traitlets                     | /etc/jupyterhub/kernel/2A_ML_env/lib/python3.10/site-packages\n",
      "tzdata                        | /etc/jupyterhub/kernel/2A_ML_env/lib/python3.10/site-packages\n",
      "wcwidth                       | /etc/jupyterhub/kernel/2A_ML_env/lib/python3.10/site-packages\n",
      "yellowbrick                   | /etc/jupyterhub/kernel/2A_ML_env/lib/python3.10/site-packages\n",
      "zmq                           | /etc/jupyterhub/kernel/2A_ML_env/lib/python3.10/site-packages\n"
     ]
    }
   ],
   "source": [
    "show_acceptable_modules()"
   ]
  },
  {
   "cell_type": "markdown",
   "metadata": {
    "id": "3SaAGxbhNE8W"
   },
   "source": [
    "**QUESTION 2**\n",
    "\n",
    "Qu’est-ce qui est affiché sur la dernière sortie ?\n",
    "Nous avons les packages téléchargés\n",
    "\n",
    "Quelle est la version de Python utilisée ?\n",
    "Nous avons la  version 3.10\n",
    "\n",
    "Pour ce premier TP, vous aurez besoin de :\n",
    " - pandas\n",
    " - matplotlib\n",
    " - numpy\n",
    " - sklearn\n",
    "Ces paquets sont-ils installés dans votre environnement ?\n",
    "\n",
    "Ils font parties de la liste."
   ]
  },
  {
   "cell_type": "markdown",
   "metadata": {
    "id": "plKPi2AyOJbH"
   },
   "source": [
    "**A faire 1.3**\n",
    "\n",
    "Exécutez la cellule suivante : "
   ]
  },
  {
   "cell_type": "code",
   "execution_count": 104,
   "metadata": {
    "id": "uA8_Sk99OCwx"
   },
   "outputs": [],
   "source": [
    "import sklearn\n"
   ]
  },
  {
   "cell_type": "markdown",
   "metadata": {
    "id": "s-fXaMVZOUz6"
   },
   "source": [
    "**QUESTION 3**\n",
    "\n",
    "Comment résoudriez-vous cette erreur ?\n",
    "Nous devons installer la librairie pandas."
   ]
  },
  {
   "cell_type": "markdown",
   "metadata": {
    "id": "UeFUQwYnOkOc"
   },
   "source": [
    "## 2 : Manipulation et visualisation des données\n"
   ]
  },
  {
   "cell_type": "markdown",
   "metadata": {
    "id": "jooNCqdVO3DM"
   },
   "source": [
    "**A faire 2.1**\n",
    "\n",
    "Exécutez les cellules suivantes :"
   ]
  },
  {
   "cell_type": "code",
   "execution_count": 8,
   "metadata": {
    "id": "rDNpZKEOO85F"
   },
   "outputs": [
    {
     "name": "stdout",
     "output_type": "stream",
     "text": [
      "<class 'pandas.core.frame.DataFrame'>\n",
      "Index: 1649 entries, 0 to 2937\n",
      "Data columns (total 22 columns):\n",
      " #   Column                           Non-Null Count  Dtype  \n",
      "---  ------                           --------------  -----  \n",
      " 0   Country                          1649 non-null   object \n",
      " 1   Year                             1649 non-null   int64  \n",
      " 2   Status                           1649 non-null   object \n",
      " 3   Life_expectancy                  1649 non-null   float64\n",
      " 4   Adult_mortality                  1649 non-null   float64\n",
      " 5   Infant_deaths                    1649 non-null   int64  \n",
      " 6   Alcohol                          1649 non-null   float64\n",
      " 7   Percentage_expenditure           1649 non-null   float64\n",
      " 8   Hepatitis_B                      1649 non-null   float64\n",
      " 9   Measles                          1649 non-null   int64  \n",
      " 10  BMI                              1649 non-null   float64\n",
      " 11  Under-five_deaths                1649 non-null   int64  \n",
      " 12  Polio                            1649 non-null   float64\n",
      " 13  Total_expenditure                1649 non-null   float64\n",
      " 14  Diphtheria                       1649 non-null   float64\n",
      " 15  HIV_AIDS                         1649 non-null   float64\n",
      " 16  GDP                              1649 non-null   float64\n",
      " 17  Population                       1649 non-null   float64\n",
      " 18  Thinness _1-19_years             1649 non-null   float64\n",
      " 19  Thinness_5-9_years               1649 non-null   float64\n",
      " 20  Income_composition_of_resources  1649 non-null   float64\n",
      " 21  Schooling                        1649 non-null   float64\n",
      "dtypes: float64(16), int64(4), object(2)\n",
      "memory usage: 296.3+ KB\n"
     ]
    }
   ],
   "source": [
    "import pandas as pd\n",
    "import matplotlib.pyplot as plt\n",
    "\n",
    "df = pd.read_csv(\"Life_Expectancy_Data.csv\")\n",
    "df = df.dropna()\n",
    "df.info()"
   ]
  },
  {
   "cell_type": "markdown",
   "metadata": {
    "id": "OdmKi5iNPEpg"
   },
   "source": [
    "**QUESTION 4**\n",
    "\n",
    "Pouvez-vous expliquer les différents éléments imprimés sur la dernière sortie ?\n",
    "\n",
    "Nous obtenons les différentes colonnes et leurs types d'éléments qui y sont contenues.\r\n",
    "s int = s entie\n",
    "s float6=es réeles objec\n",
    "objectn=es chaines de caractères  s objets."
   ]
  },
  {
   "cell_type": "code",
   "execution_count": 9,
   "metadata": {
    "id": "TO2VhknbPPcD"
   },
   "outputs": [
    {
     "name": "stdout",
     "output_type": "stream",
     "text": [
      "df1:      Country  Year      Status  Life_expectancy  Adult_mortality  \\\n",
      "931  France  2014  Developing             82.2             79.0   \n",
      "932  France  2013  Developing             82.0             81.0   \n",
      "933  France  2012  Developing             81.5             83.0   \n",
      "934  France  2011  Developing             81.7             83.0   \n",
      "\n",
      "     Infant_deaths  Alcohol  Percentage_expenditure  Hepatitis_B  Measles  \\\n",
      "931              3     11.5             6739.677606         83.0      267   \n",
      "932              3     11.1             6646.953935         74.0      272   \n",
      "933              3     11.5              751.379355         78.0        0   \n",
      "934              3     11.8              683.919057         74.0    14949   \n",
      "\n",
      "     ...  Polio  Total_expenditure  Diphtheria  HIV_AIDS          GDP  \\\n",
      "931  ...   98.0              11.54        98.0       0.1  42955.24287   \n",
      "932  ...   99.0              11.56        99.0       0.1  42554.12250   \n",
      "933  ...   99.0              11.44        99.0       0.1   4838.24440   \n",
      "934  ...   99.0              11.33        99.0       0.1   4381.28800   \n",
      "\n",
      "     Population  Thinness _1-19_years  Thinness_5-9_years  \\\n",
      "931  66331957.0                   0.6                 0.6   \n",
      "932   6599857.0                   0.6                 0.6   \n",
      "933   6565979.0                   0.6                 0.6   \n",
      "934  65342776.0                   0.6                 0.6   \n",
      "\n",
      "     Income_composition_of_resources  Schooling  \n",
      "931                            0.890       16.2  \n",
      "932                            0.887       16.2  \n",
      "933                            0.885       16.1  \n",
      "934                            0.882       16.1  \n",
      "\n",
      "[4 rows x 22 columns]\n",
      "df2:  931    2014\n",
      "932    2013\n",
      "933    2012\n",
      "934    2011\n",
      "935    2010\n",
      "936    2009\n",
      "937    2008\n",
      "938    2007\n",
      "939    2006\n",
      "940    2005\n",
      "941    2004\n",
      "942    2003\n",
      "943    2002\n",
      "944    2001\n",
      "945    2000\n",
      "Name: Year, dtype: int64\n"
     ]
    }
   ],
   "source": [
    "df1 = df[(df.Country == \"France\") & (df.Year > 2010)]\n",
    "print(\"df1: \", df1)\n",
    "df2 = df[(df.Country == \"France\")].Year\n",
    "print(\"df2: \", df2)"
   ]
  },
  {
   "cell_type": "markdown",
   "metadata": {
    "id": "HIPyWcrYPicD"
   },
   "source": [
    "**QUESTION 5**\n",
    "\n",
    "Comment interpréter le nouveau DataFrame df1 par rapport à df ? Que représente df2 par rapport à df1 ?\n",
    "\n",
    "df1 sélectionne les données concernant uniquement la France à partir de 2010\r\n",
    "\r\n",
    "2 dfsélectionne les données concernant la France sur toutes les années car elle prend en compte tou l ka colonne 'Year'e."
   ]
  },
  {
   "cell_type": "markdown",
   "metadata": {
    "id": "ZOiWa2vsPq-A"
   },
   "source": [
    "**A coder 2.2**\n",
    "\n",
    "Dans quel intervalle de valeurs évolue l'espérance de vie en Belgique entre 2004 et 2008"
   ]
  },
  {
   "cell_type": "code",
   "execution_count": 10,
   "metadata": {
    "id": "G6bvJ4oQPyiU"
   },
   "outputs": [
    {
     "name": "stdout",
     "output_type": "stream",
     "text": [
      "78.9 79.5\n"
     ]
    }
   ],
   "source": [
    "df3 = df[(df.Country == \"Belgium\") & ((df.Year > 2004) & (df.Year < 2008))] # filtrage des données en fonction des années\n",
    "mindf3 = df3['Life_expectancy'].min()  # calcul la valeur min de la colonne Life_expectancy\n",
    "maxdf3 = df3['Life_expectancy'].max()  # calcul la valeur max de la colonne Life_expectancy\n",
    "print(mindf3, maxdf3) #affiche les valeurs min et max de la durée de vie"
   ]
  },
  {
   "cell_type": "markdown",
   "metadata": {
    "id": "JQ5hQwbzP-IQ"
   },
   "source": [
    "**A faire 2.3**\n",
    "\n",
    "Calculer la corrélation entre toutes les caractéristiques\n"
   ]
  },
  {
   "cell_type": "code",
   "execution_count": 11,
   "metadata": {
    "id": "wR83je-kQFD8"
   },
   "outputs": [
    {
     "data": {
      "text/html": [
       "<div>\n",
       "<style scoped>\n",
       "    .dataframe tbody tr th:only-of-type {\n",
       "        vertical-align: middle;\n",
       "    }\n",
       "\n",
       "    .dataframe tbody tr th {\n",
       "        vertical-align: top;\n",
       "    }\n",
       "\n",
       "    .dataframe thead th {\n",
       "        text-align: right;\n",
       "    }\n",
       "</style>\n",
       "<table border=\"1\" class=\"dataframe\">\n",
       "  <thead>\n",
       "    <tr style=\"text-align: right;\">\n",
       "      <th></th>\n",
       "      <th>Year</th>\n",
       "      <th>Life_expectancy</th>\n",
       "      <th>Adult_mortality</th>\n",
       "      <th>Infant_deaths</th>\n",
       "      <th>Alcohol</th>\n",
       "      <th>Percentage_expenditure</th>\n",
       "      <th>Hepatitis_B</th>\n",
       "      <th>Measles</th>\n",
       "      <th>BMI</th>\n",
       "      <th>Under-five_deaths</th>\n",
       "      <th>Polio</th>\n",
       "      <th>Total_expenditure</th>\n",
       "      <th>Diphtheria</th>\n",
       "      <th>HIV_AIDS</th>\n",
       "      <th>GDP</th>\n",
       "      <th>Population</th>\n",
       "      <th>Thinness _1-19_years</th>\n",
       "      <th>Thinness_5-9_years</th>\n",
       "      <th>Income_composition_of_resources</th>\n",
       "      <th>Schooling</th>\n",
       "    </tr>\n",
       "  </thead>\n",
       "  <tbody>\n",
       "    <tr>\n",
       "      <th>Year</th>\n",
       "      <td>1.000000</td>\n",
       "      <td>0.050771</td>\n",
       "      <td>-0.037092</td>\n",
       "      <td>0.008029</td>\n",
       "      <td>-0.113365</td>\n",
       "      <td>0.069553</td>\n",
       "      <td>0.114897</td>\n",
       "      <td>-0.053822</td>\n",
       "      <td>0.005739</td>\n",
       "      <td>0.010479</td>\n",
       "      <td>-0.016699</td>\n",
       "      <td>0.059493</td>\n",
       "      <td>0.029641</td>\n",
       "      <td>-0.123405</td>\n",
       "      <td>0.096421</td>\n",
       "      <td>0.012567</td>\n",
       "      <td>0.019757</td>\n",
       "      <td>0.014122</td>\n",
       "      <td>0.122892</td>\n",
       "      <td>0.088732</td>\n",
       "    </tr>\n",
       "    <tr>\n",
       "      <th>Life_expectancy</th>\n",
       "      <td>0.050771</td>\n",
       "      <td>1.000000</td>\n",
       "      <td>-0.702523</td>\n",
       "      <td>-0.169074</td>\n",
       "      <td>0.402718</td>\n",
       "      <td>0.409631</td>\n",
       "      <td>0.199935</td>\n",
       "      <td>-0.068881</td>\n",
       "      <td>0.542042</td>\n",
       "      <td>-0.192265</td>\n",
       "      <td>0.327294</td>\n",
       "      <td>0.174718</td>\n",
       "      <td>0.341331</td>\n",
       "      <td>-0.592236</td>\n",
       "      <td>0.441322</td>\n",
       "      <td>-0.022305</td>\n",
       "      <td>-0.457838</td>\n",
       "      <td>-0.457508</td>\n",
       "      <td>0.721083</td>\n",
       "      <td>0.727630</td>\n",
       "    </tr>\n",
       "    <tr>\n",
       "      <th>Adult_mortality</th>\n",
       "      <td>-0.037092</td>\n",
       "      <td>-0.702523</td>\n",
       "      <td>1.000000</td>\n",
       "      <td>0.042450</td>\n",
       "      <td>-0.175535</td>\n",
       "      <td>-0.237610</td>\n",
       "      <td>-0.105225</td>\n",
       "      <td>-0.003967</td>\n",
       "      <td>-0.351542</td>\n",
       "      <td>0.060365</td>\n",
       "      <td>-0.199853</td>\n",
       "      <td>-0.085227</td>\n",
       "      <td>-0.191429</td>\n",
       "      <td>0.550691</td>\n",
       "      <td>-0.255035</td>\n",
       "      <td>-0.015012</td>\n",
       "      <td>0.272230</td>\n",
       "      <td>0.286723</td>\n",
       "      <td>-0.442203</td>\n",
       "      <td>-0.421171</td>\n",
       "    </tr>\n",
       "    <tr>\n",
       "      <th>Infant_deaths</th>\n",
       "      <td>0.008029</td>\n",
       "      <td>-0.169074</td>\n",
       "      <td>0.042450</td>\n",
       "      <td>1.000000</td>\n",
       "      <td>-0.106217</td>\n",
       "      <td>-0.090765</td>\n",
       "      <td>-0.231769</td>\n",
       "      <td>0.532680</td>\n",
       "      <td>-0.234425</td>\n",
       "      <td>0.996906</td>\n",
       "      <td>-0.156929</td>\n",
       "      <td>-0.146951</td>\n",
       "      <td>-0.161871</td>\n",
       "      <td>0.007712</td>\n",
       "      <td>-0.098092</td>\n",
       "      <td>0.671758</td>\n",
       "      <td>0.463415</td>\n",
       "      <td>0.461908</td>\n",
       "      <td>-0.134754</td>\n",
       "      <td>-0.214372</td>\n",
       "    </tr>\n",
       "    <tr>\n",
       "      <th>Alcohol</th>\n",
       "      <td>-0.113365</td>\n",
       "      <td>0.402718</td>\n",
       "      <td>-0.175535</td>\n",
       "      <td>-0.106217</td>\n",
       "      <td>1.000000</td>\n",
       "      <td>0.417047</td>\n",
       "      <td>0.109889</td>\n",
       "      <td>-0.050110</td>\n",
       "      <td>0.353396</td>\n",
       "      <td>-0.101082</td>\n",
       "      <td>0.240315</td>\n",
       "      <td>0.214885</td>\n",
       "      <td>0.242951</td>\n",
       "      <td>-0.027113</td>\n",
       "      <td>0.443433</td>\n",
       "      <td>-0.028880</td>\n",
       "      <td>-0.403755</td>\n",
       "      <td>-0.386208</td>\n",
       "      <td>0.561074</td>\n",
       "      <td>0.616975</td>\n",
       "    </tr>\n",
       "    <tr>\n",
       "      <th>Percentage_expenditure</th>\n",
       "      <td>0.069553</td>\n",
       "      <td>0.409631</td>\n",
       "      <td>-0.237610</td>\n",
       "      <td>-0.090765</td>\n",
       "      <td>0.417047</td>\n",
       "      <td>1.000000</td>\n",
       "      <td>0.016760</td>\n",
       "      <td>-0.063071</td>\n",
       "      <td>0.242738</td>\n",
       "      <td>-0.092158</td>\n",
       "      <td>0.128626</td>\n",
       "      <td>0.183872</td>\n",
       "      <td>0.134813</td>\n",
       "      <td>-0.095085</td>\n",
       "      <td>0.959299</td>\n",
       "      <td>-0.016792</td>\n",
       "      <td>-0.255035</td>\n",
       "      <td>-0.255635</td>\n",
       "      <td>0.402170</td>\n",
       "      <td>0.422088</td>\n",
       "    </tr>\n",
       "    <tr>\n",
       "      <th>Hepatitis_B</th>\n",
       "      <td>0.114897</td>\n",
       "      <td>0.199935</td>\n",
       "      <td>-0.105225</td>\n",
       "      <td>-0.231769</td>\n",
       "      <td>0.109889</td>\n",
       "      <td>0.016760</td>\n",
       "      <td>1.000000</td>\n",
       "      <td>-0.124800</td>\n",
       "      <td>0.143302</td>\n",
       "      <td>-0.240766</td>\n",
       "      <td>0.463331</td>\n",
       "      <td>0.113327</td>\n",
       "      <td>0.588990</td>\n",
       "      <td>-0.094802</td>\n",
       "      <td>0.041850</td>\n",
       "      <td>-0.129723</td>\n",
       "      <td>-0.129406</td>\n",
       "      <td>-0.133251</td>\n",
       "      <td>0.184921</td>\n",
       "      <td>0.215182</td>\n",
       "    </tr>\n",
       "    <tr>\n",
       "      <th>Measles</th>\n",
       "      <td>-0.053822</td>\n",
       "      <td>-0.068881</td>\n",
       "      <td>-0.003967</td>\n",
       "      <td>0.532680</td>\n",
       "      <td>-0.050110</td>\n",
       "      <td>-0.063071</td>\n",
       "      <td>-0.124800</td>\n",
       "      <td>1.000000</td>\n",
       "      <td>-0.153245</td>\n",
       "      <td>0.517506</td>\n",
       "      <td>-0.057850</td>\n",
       "      <td>-0.113583</td>\n",
       "      <td>-0.058606</td>\n",
       "      <td>-0.003522</td>\n",
       "      <td>-0.064768</td>\n",
       "      <td>0.321946</td>\n",
       "      <td>0.180642</td>\n",
       "      <td>0.174946</td>\n",
       "      <td>-0.058277</td>\n",
       "      <td>-0.115660</td>\n",
       "    </tr>\n",
       "    <tr>\n",
       "      <th>BMI</th>\n",
       "      <td>0.005739</td>\n",
       "      <td>0.542042</td>\n",
       "      <td>-0.351542</td>\n",
       "      <td>-0.234425</td>\n",
       "      <td>0.353396</td>\n",
       "      <td>0.242738</td>\n",
       "      <td>0.143302</td>\n",
       "      <td>-0.153245</td>\n",
       "      <td>1.000000</td>\n",
       "      <td>-0.242137</td>\n",
       "      <td>0.186268</td>\n",
       "      <td>0.189469</td>\n",
       "      <td>0.176295</td>\n",
       "      <td>-0.210897</td>\n",
       "      <td>0.266114</td>\n",
       "      <td>-0.081416</td>\n",
       "      <td>-0.547018</td>\n",
       "      <td>-0.554094</td>\n",
       "      <td>0.510505</td>\n",
       "      <td>0.554844</td>\n",
       "    </tr>\n",
       "    <tr>\n",
       "      <th>Under-five_deaths</th>\n",
       "      <td>0.010479</td>\n",
       "      <td>-0.192265</td>\n",
       "      <td>0.060365</td>\n",
       "      <td>0.996906</td>\n",
       "      <td>-0.101082</td>\n",
       "      <td>-0.092158</td>\n",
       "      <td>-0.240766</td>\n",
       "      <td>0.517506</td>\n",
       "      <td>-0.242137</td>\n",
       "      <td>1.000000</td>\n",
       "      <td>-0.171164</td>\n",
       "      <td>-0.145803</td>\n",
       "      <td>-0.178448</td>\n",
       "      <td>0.019476</td>\n",
       "      <td>-0.100331</td>\n",
       "      <td>0.658680</td>\n",
       "      <td>0.464785</td>\n",
       "      <td>0.462289</td>\n",
       "      <td>-0.148097</td>\n",
       "      <td>-0.226013</td>\n",
       "    </tr>\n",
       "    <tr>\n",
       "      <th>Polio</th>\n",
       "      <td>-0.016699</td>\n",
       "      <td>0.327294</td>\n",
       "      <td>-0.199853</td>\n",
       "      <td>-0.156929</td>\n",
       "      <td>0.240315</td>\n",
       "      <td>0.128626</td>\n",
       "      <td>0.463331</td>\n",
       "      <td>-0.057850</td>\n",
       "      <td>0.186268</td>\n",
       "      <td>-0.171164</td>\n",
       "      <td>1.000000</td>\n",
       "      <td>0.119768</td>\n",
       "      <td>0.609245</td>\n",
       "      <td>-0.107885</td>\n",
       "      <td>0.156809</td>\n",
       "      <td>-0.045387</td>\n",
       "      <td>-0.164070</td>\n",
       "      <td>-0.174489</td>\n",
       "      <td>0.314682</td>\n",
       "      <td>0.350147</td>\n",
       "    </tr>\n",
       "    <tr>\n",
       "      <th>Total_expenditure</th>\n",
       "      <td>0.059493</td>\n",
       "      <td>0.174718</td>\n",
       "      <td>-0.085227</td>\n",
       "      <td>-0.146951</td>\n",
       "      <td>0.214885</td>\n",
       "      <td>0.183872</td>\n",
       "      <td>0.113327</td>\n",
       "      <td>-0.113583</td>\n",
       "      <td>0.189469</td>\n",
       "      <td>-0.145803</td>\n",
       "      <td>0.119768</td>\n",
       "      <td>1.000000</td>\n",
       "      <td>0.129915</td>\n",
       "      <td>0.043101</td>\n",
       "      <td>0.180373</td>\n",
       "      <td>-0.079962</td>\n",
       "      <td>-0.209872</td>\n",
       "      <td>-0.217865</td>\n",
       "      <td>0.183653</td>\n",
       "      <td>0.243783</td>\n",
       "    </tr>\n",
       "    <tr>\n",
       "      <th>Diphtheria</th>\n",
       "      <td>0.029641</td>\n",
       "      <td>0.341331</td>\n",
       "      <td>-0.191429</td>\n",
       "      <td>-0.161871</td>\n",
       "      <td>0.242951</td>\n",
       "      <td>0.134813</td>\n",
       "      <td>0.588990</td>\n",
       "      <td>-0.058606</td>\n",
       "      <td>0.176295</td>\n",
       "      <td>-0.178448</td>\n",
       "      <td>0.609245</td>\n",
       "      <td>0.129915</td>\n",
       "      <td>1.000000</td>\n",
       "      <td>-0.117601</td>\n",
       "      <td>0.158438</td>\n",
       "      <td>-0.039898</td>\n",
       "      <td>-0.187242</td>\n",
       "      <td>-0.180952</td>\n",
       "      <td>0.343262</td>\n",
       "      <td>0.350398</td>\n",
       "    </tr>\n",
       "    <tr>\n",
       "      <th>HIV_AIDS</th>\n",
       "      <td>-0.123405</td>\n",
       "      <td>-0.592236</td>\n",
       "      <td>0.550691</td>\n",
       "      <td>0.007712</td>\n",
       "      <td>-0.027113</td>\n",
       "      <td>-0.095085</td>\n",
       "      <td>-0.094802</td>\n",
       "      <td>-0.003522</td>\n",
       "      <td>-0.210897</td>\n",
       "      <td>0.019476</td>\n",
       "      <td>-0.107885</td>\n",
       "      <td>0.043101</td>\n",
       "      <td>-0.117601</td>\n",
       "      <td>1.000000</td>\n",
       "      <td>-0.108081</td>\n",
       "      <td>-0.027801</td>\n",
       "      <td>0.172592</td>\n",
       "      <td>0.183147</td>\n",
       "      <td>-0.248590</td>\n",
       "      <td>-0.211840</td>\n",
       "    </tr>\n",
       "    <tr>\n",
       "      <th>GDP</th>\n",
       "      <td>0.096421</td>\n",
       "      <td>0.441322</td>\n",
       "      <td>-0.255035</td>\n",
       "      <td>-0.098092</td>\n",
       "      <td>0.443433</td>\n",
       "      <td>0.959299</td>\n",
       "      <td>0.041850</td>\n",
       "      <td>-0.064768</td>\n",
       "      <td>0.266114</td>\n",
       "      <td>-0.100331</td>\n",
       "      <td>0.156809</td>\n",
       "      <td>0.180373</td>\n",
       "      <td>0.158438</td>\n",
       "      <td>-0.108081</td>\n",
       "      <td>1.000000</td>\n",
       "      <td>-0.020369</td>\n",
       "      <td>-0.277498</td>\n",
       "      <td>-0.277959</td>\n",
       "      <td>0.446856</td>\n",
       "      <td>0.467947</td>\n",
       "    </tr>\n",
       "    <tr>\n",
       "      <th>Population</th>\n",
       "      <td>0.012567</td>\n",
       "      <td>-0.022305</td>\n",
       "      <td>-0.015012</td>\n",
       "      <td>0.671758</td>\n",
       "      <td>-0.028880</td>\n",
       "      <td>-0.016792</td>\n",
       "      <td>-0.129723</td>\n",
       "      <td>0.321946</td>\n",
       "      <td>-0.081416</td>\n",
       "      <td>0.658680</td>\n",
       "      <td>-0.045387</td>\n",
       "      <td>-0.079962</td>\n",
       "      <td>-0.039898</td>\n",
       "      <td>-0.027801</td>\n",
       "      <td>-0.020369</td>\n",
       "      <td>1.000000</td>\n",
       "      <td>0.282529</td>\n",
       "      <td>0.277913</td>\n",
       "      <td>-0.008132</td>\n",
       "      <td>-0.040312</td>\n",
       "    </tr>\n",
       "    <tr>\n",
       "      <th>Thinness _1-19_years</th>\n",
       "      <td>0.019757</td>\n",
       "      <td>-0.457838</td>\n",
       "      <td>0.272230</td>\n",
       "      <td>0.463415</td>\n",
       "      <td>-0.403755</td>\n",
       "      <td>-0.255035</td>\n",
       "      <td>-0.129406</td>\n",
       "      <td>0.180642</td>\n",
       "      <td>-0.547018</td>\n",
       "      <td>0.464785</td>\n",
       "      <td>-0.164070</td>\n",
       "      <td>-0.209872</td>\n",
       "      <td>-0.187242</td>\n",
       "      <td>0.172592</td>\n",
       "      <td>-0.277498</td>\n",
       "      <td>0.282529</td>\n",
       "      <td>1.000000</td>\n",
       "      <td>0.927913</td>\n",
       "      <td>-0.453679</td>\n",
       "      <td>-0.491199</td>\n",
       "    </tr>\n",
       "    <tr>\n",
       "      <th>Thinness_5-9_years</th>\n",
       "      <td>0.014122</td>\n",
       "      <td>-0.457508</td>\n",
       "      <td>0.286723</td>\n",
       "      <td>0.461908</td>\n",
       "      <td>-0.386208</td>\n",
       "      <td>-0.255635</td>\n",
       "      <td>-0.133251</td>\n",
       "      <td>0.174946</td>\n",
       "      <td>-0.554094</td>\n",
       "      <td>0.462289</td>\n",
       "      <td>-0.174489</td>\n",
       "      <td>-0.217865</td>\n",
       "      <td>-0.180952</td>\n",
       "      <td>0.183147</td>\n",
       "      <td>-0.277959</td>\n",
       "      <td>0.277913</td>\n",
       "      <td>0.927913</td>\n",
       "      <td>1.000000</td>\n",
       "      <td>-0.438484</td>\n",
       "      <td>-0.472482</td>\n",
       "    </tr>\n",
       "    <tr>\n",
       "      <th>Income_composition_of_resources</th>\n",
       "      <td>0.122892</td>\n",
       "      <td>0.721083</td>\n",
       "      <td>-0.442203</td>\n",
       "      <td>-0.134754</td>\n",
       "      <td>0.561074</td>\n",
       "      <td>0.402170</td>\n",
       "      <td>0.184921</td>\n",
       "      <td>-0.058277</td>\n",
       "      <td>0.510505</td>\n",
       "      <td>-0.148097</td>\n",
       "      <td>0.314682</td>\n",
       "      <td>0.183653</td>\n",
       "      <td>0.343262</td>\n",
       "      <td>-0.248590</td>\n",
       "      <td>0.446856</td>\n",
       "      <td>-0.008132</td>\n",
       "      <td>-0.453679</td>\n",
       "      <td>-0.438484</td>\n",
       "      <td>1.000000</td>\n",
       "      <td>0.784741</td>\n",
       "    </tr>\n",
       "    <tr>\n",
       "      <th>Schooling</th>\n",
       "      <td>0.088732</td>\n",
       "      <td>0.727630</td>\n",
       "      <td>-0.421171</td>\n",
       "      <td>-0.214372</td>\n",
       "      <td>0.616975</td>\n",
       "      <td>0.422088</td>\n",
       "      <td>0.215182</td>\n",
       "      <td>-0.115660</td>\n",
       "      <td>0.554844</td>\n",
       "      <td>-0.226013</td>\n",
       "      <td>0.350147</td>\n",
       "      <td>0.243783</td>\n",
       "      <td>0.350398</td>\n",
       "      <td>-0.211840</td>\n",
       "      <td>0.467947</td>\n",
       "      <td>-0.040312</td>\n",
       "      <td>-0.491199</td>\n",
       "      <td>-0.472482</td>\n",
       "      <td>0.784741</td>\n",
       "      <td>1.000000</td>\n",
       "    </tr>\n",
       "  </tbody>\n",
       "</table>\n",
       "</div>"
      ],
      "text/plain": [
       "                                     Year  Life_expectancy  Adult_mortality  \\\n",
       "Year                             1.000000         0.050771        -0.037092   \n",
       "Life_expectancy                  0.050771         1.000000        -0.702523   \n",
       "Adult_mortality                 -0.037092        -0.702523         1.000000   \n",
       "Infant_deaths                    0.008029        -0.169074         0.042450   \n",
       "Alcohol                         -0.113365         0.402718        -0.175535   \n",
       "Percentage_expenditure           0.069553         0.409631        -0.237610   \n",
       "Hepatitis_B                      0.114897         0.199935        -0.105225   \n",
       "Measles                         -0.053822        -0.068881        -0.003967   \n",
       "BMI                              0.005739         0.542042        -0.351542   \n",
       "Under-five_deaths                0.010479        -0.192265         0.060365   \n",
       "Polio                           -0.016699         0.327294        -0.199853   \n",
       "Total_expenditure                0.059493         0.174718        -0.085227   \n",
       "Diphtheria                       0.029641         0.341331        -0.191429   \n",
       "HIV_AIDS                        -0.123405        -0.592236         0.550691   \n",
       "GDP                              0.096421         0.441322        -0.255035   \n",
       "Population                       0.012567        -0.022305        -0.015012   \n",
       "Thinness _1-19_years             0.019757        -0.457838         0.272230   \n",
       "Thinness_5-9_years               0.014122        -0.457508         0.286723   \n",
       "Income_composition_of_resources  0.122892         0.721083        -0.442203   \n",
       "Schooling                        0.088732         0.727630        -0.421171   \n",
       "\n",
       "                                 Infant_deaths   Alcohol  \\\n",
       "Year                                  0.008029 -0.113365   \n",
       "Life_expectancy                      -0.169074  0.402718   \n",
       "Adult_mortality                       0.042450 -0.175535   \n",
       "Infant_deaths                         1.000000 -0.106217   \n",
       "Alcohol                              -0.106217  1.000000   \n",
       "Percentage_expenditure               -0.090765  0.417047   \n",
       "Hepatitis_B                          -0.231769  0.109889   \n",
       "Measles                               0.532680 -0.050110   \n",
       "BMI                                  -0.234425  0.353396   \n",
       "Under-five_deaths                     0.996906 -0.101082   \n",
       "Polio                                -0.156929  0.240315   \n",
       "Total_expenditure                    -0.146951  0.214885   \n",
       "Diphtheria                           -0.161871  0.242951   \n",
       "HIV_AIDS                              0.007712 -0.027113   \n",
       "GDP                                  -0.098092  0.443433   \n",
       "Population                            0.671758 -0.028880   \n",
       "Thinness _1-19_years                  0.463415 -0.403755   \n",
       "Thinness_5-9_years                    0.461908 -0.386208   \n",
       "Income_composition_of_resources      -0.134754  0.561074   \n",
       "Schooling                            -0.214372  0.616975   \n",
       "\n",
       "                                 Percentage_expenditure  Hepatitis_B  \\\n",
       "Year                                           0.069553     0.114897   \n",
       "Life_expectancy                                0.409631     0.199935   \n",
       "Adult_mortality                               -0.237610    -0.105225   \n",
       "Infant_deaths                                 -0.090765    -0.231769   \n",
       "Alcohol                                        0.417047     0.109889   \n",
       "Percentage_expenditure                         1.000000     0.016760   \n",
       "Hepatitis_B                                    0.016760     1.000000   \n",
       "Measles                                       -0.063071    -0.124800   \n",
       "BMI                                            0.242738     0.143302   \n",
       "Under-five_deaths                             -0.092158    -0.240766   \n",
       "Polio                                          0.128626     0.463331   \n",
       "Total_expenditure                              0.183872     0.113327   \n",
       "Diphtheria                                     0.134813     0.588990   \n",
       "HIV_AIDS                                      -0.095085    -0.094802   \n",
       "GDP                                            0.959299     0.041850   \n",
       "Population                                    -0.016792    -0.129723   \n",
       "Thinness _1-19_years                          -0.255035    -0.129406   \n",
       "Thinness_5-9_years                            -0.255635    -0.133251   \n",
       "Income_composition_of_resources                0.402170     0.184921   \n",
       "Schooling                                      0.422088     0.215182   \n",
       "\n",
       "                                  Measles       BMI  Under-five_deaths  \\\n",
       "Year                            -0.053822  0.005739           0.010479   \n",
       "Life_expectancy                 -0.068881  0.542042          -0.192265   \n",
       "Adult_mortality                 -0.003967 -0.351542           0.060365   \n",
       "Infant_deaths                    0.532680 -0.234425           0.996906   \n",
       "Alcohol                         -0.050110  0.353396          -0.101082   \n",
       "Percentage_expenditure          -0.063071  0.242738          -0.092158   \n",
       "Hepatitis_B                     -0.124800  0.143302          -0.240766   \n",
       "Measles                          1.000000 -0.153245           0.517506   \n",
       "BMI                             -0.153245  1.000000          -0.242137   \n",
       "Under-five_deaths                0.517506 -0.242137           1.000000   \n",
       "Polio                           -0.057850  0.186268          -0.171164   \n",
       "Total_expenditure               -0.113583  0.189469          -0.145803   \n",
       "Diphtheria                      -0.058606  0.176295          -0.178448   \n",
       "HIV_AIDS                        -0.003522 -0.210897           0.019476   \n",
       "GDP                             -0.064768  0.266114          -0.100331   \n",
       "Population                       0.321946 -0.081416           0.658680   \n",
       "Thinness _1-19_years             0.180642 -0.547018           0.464785   \n",
       "Thinness_5-9_years               0.174946 -0.554094           0.462289   \n",
       "Income_composition_of_resources -0.058277  0.510505          -0.148097   \n",
       "Schooling                       -0.115660  0.554844          -0.226013   \n",
       "\n",
       "                                    Polio  Total_expenditure  Diphtheria  \\\n",
       "Year                            -0.016699           0.059493    0.029641   \n",
       "Life_expectancy                  0.327294           0.174718    0.341331   \n",
       "Adult_mortality                 -0.199853          -0.085227   -0.191429   \n",
       "Infant_deaths                   -0.156929          -0.146951   -0.161871   \n",
       "Alcohol                          0.240315           0.214885    0.242951   \n",
       "Percentage_expenditure           0.128626           0.183872    0.134813   \n",
       "Hepatitis_B                      0.463331           0.113327    0.588990   \n",
       "Measles                         -0.057850          -0.113583   -0.058606   \n",
       "BMI                              0.186268           0.189469    0.176295   \n",
       "Under-five_deaths               -0.171164          -0.145803   -0.178448   \n",
       "Polio                            1.000000           0.119768    0.609245   \n",
       "Total_expenditure                0.119768           1.000000    0.129915   \n",
       "Diphtheria                       0.609245           0.129915    1.000000   \n",
       "HIV_AIDS                        -0.107885           0.043101   -0.117601   \n",
       "GDP                              0.156809           0.180373    0.158438   \n",
       "Population                      -0.045387          -0.079962   -0.039898   \n",
       "Thinness _1-19_years            -0.164070          -0.209872   -0.187242   \n",
       "Thinness_5-9_years              -0.174489          -0.217865   -0.180952   \n",
       "Income_composition_of_resources  0.314682           0.183653    0.343262   \n",
       "Schooling                        0.350147           0.243783    0.350398   \n",
       "\n",
       "                                 HIV_AIDS       GDP  Population  \\\n",
       "Year                            -0.123405  0.096421    0.012567   \n",
       "Life_expectancy                 -0.592236  0.441322   -0.022305   \n",
       "Adult_mortality                  0.550691 -0.255035   -0.015012   \n",
       "Infant_deaths                    0.007712 -0.098092    0.671758   \n",
       "Alcohol                         -0.027113  0.443433   -0.028880   \n",
       "Percentage_expenditure          -0.095085  0.959299   -0.016792   \n",
       "Hepatitis_B                     -0.094802  0.041850   -0.129723   \n",
       "Measles                         -0.003522 -0.064768    0.321946   \n",
       "BMI                             -0.210897  0.266114   -0.081416   \n",
       "Under-five_deaths                0.019476 -0.100331    0.658680   \n",
       "Polio                           -0.107885  0.156809   -0.045387   \n",
       "Total_expenditure                0.043101  0.180373   -0.079962   \n",
       "Diphtheria                      -0.117601  0.158438   -0.039898   \n",
       "HIV_AIDS                         1.000000 -0.108081   -0.027801   \n",
       "GDP                             -0.108081  1.000000   -0.020369   \n",
       "Population                      -0.027801 -0.020369    1.000000   \n",
       "Thinness _1-19_years             0.172592 -0.277498    0.282529   \n",
       "Thinness_5-9_years               0.183147 -0.277959    0.277913   \n",
       "Income_composition_of_resources -0.248590  0.446856   -0.008132   \n",
       "Schooling                       -0.211840  0.467947   -0.040312   \n",
       "\n",
       "                                 Thinness _1-19_years  Thinness_5-9_years  \\\n",
       "Year                                         0.019757            0.014122   \n",
       "Life_expectancy                             -0.457838           -0.457508   \n",
       "Adult_mortality                              0.272230            0.286723   \n",
       "Infant_deaths                                0.463415            0.461908   \n",
       "Alcohol                                     -0.403755           -0.386208   \n",
       "Percentage_expenditure                      -0.255035           -0.255635   \n",
       "Hepatitis_B                                 -0.129406           -0.133251   \n",
       "Measles                                      0.180642            0.174946   \n",
       "BMI                                         -0.547018           -0.554094   \n",
       "Under-five_deaths                            0.464785            0.462289   \n",
       "Polio                                       -0.164070           -0.174489   \n",
       "Total_expenditure                           -0.209872           -0.217865   \n",
       "Diphtheria                                  -0.187242           -0.180952   \n",
       "HIV_AIDS                                     0.172592            0.183147   \n",
       "GDP                                         -0.277498           -0.277959   \n",
       "Population                                   0.282529            0.277913   \n",
       "Thinness _1-19_years                         1.000000            0.927913   \n",
       "Thinness_5-9_years                           0.927913            1.000000   \n",
       "Income_composition_of_resources             -0.453679           -0.438484   \n",
       "Schooling                                   -0.491199           -0.472482   \n",
       "\n",
       "                                 Income_composition_of_resources  Schooling  \n",
       "Year                                                    0.122892   0.088732  \n",
       "Life_expectancy                                         0.721083   0.727630  \n",
       "Adult_mortality                                        -0.442203  -0.421171  \n",
       "Infant_deaths                                          -0.134754  -0.214372  \n",
       "Alcohol                                                 0.561074   0.616975  \n",
       "Percentage_expenditure                                  0.402170   0.422088  \n",
       "Hepatitis_B                                             0.184921   0.215182  \n",
       "Measles                                                -0.058277  -0.115660  \n",
       "BMI                                                     0.510505   0.554844  \n",
       "Under-five_deaths                                      -0.148097  -0.226013  \n",
       "Polio                                                   0.314682   0.350147  \n",
       "Total_expenditure                                       0.183653   0.243783  \n",
       "Diphtheria                                              0.343262   0.350398  \n",
       "HIV_AIDS                                               -0.248590  -0.211840  \n",
       "GDP                                                     0.446856   0.467947  \n",
       "Population                                             -0.008132  -0.040312  \n",
       "Thinness _1-19_years                                   -0.453679  -0.491199  \n",
       "Thinness_5-9_years                                     -0.438484  -0.472482  \n",
       "Income_composition_of_resources                         1.000000   0.784741  \n",
       "Schooling                                               0.784741   1.000000  "
      ]
     },
     "execution_count": 11,
     "metadata": {},
     "output_type": "execute_result"
    }
   ],
   "source": [
    "df.corr(numeric_only=True) "
   ]
  },
  {
   "cell_type": "markdown",
   "metadata": {
    "id": "UXcFU3_ARz1C"
   },
   "source": [
    "**QUESTION 6**\n",
    "\n",
    "Quelles sont les valeurs les plus prometteuses et les moins prometteuses à utiliser pour prédire l'espérance de vie ?\n",
    "\n",
    "La colonne 'Schooling' présente la corrélation la plus forte avec l'espérance de vie, tandis que la répartition des ressources et la mortalité des adultes sont également des données fortement corrélées.\n"
   ]
  },
  {
   "cell_type": "markdown",
   "metadata": {
    "id": "oU01fx8SUrrI"
   },
   "source": [
    "**A coder 2.4**\n",
    "\n",
    "Tracez l'espérance de vie par rapport à l'une des valeurs que vous avez choisies."
   ]
  },
  {
   "cell_type": "code",
   "execution_count": 12,
   "metadata": {
    "id": "o2HNsPbYUz2o"
   },
   "outputs": [
    {
     "data": {
      "text/plain": [
       "(Text(0.5, 1.0, 'Schooling Save People'),\n",
       " Text(0.5, 0, 'Schooling'),\n",
       " Text(0, 0.5, 'Life expectancy'))"
      ]
     },
     "execution_count": 12,
     "metadata": {},
     "output_type": "execute_result"
    },
    {
     "data": {
      "image/png": "[encoded data removed]",
      "text/plain": [
       "<Figure size 640x480 with 1 Axes>"
      ]
     },
     "metadata": {},
     "output_type": "display_data"
    }
   ],
   "source": [
    "#grace à la librairie matplot et la fonction : matplotlib.pyplot.scatter\n",
    "plt.scatter(df.Schooling, df.Life_expectancy, color = 'blue', alpha = 0.5, linewidths = 0)\n",
    "plt.title('Schooling Save People'), plt.xlabel('Schooling'), plt.ylabel('Life expectancy')"
   ]
  },
  {
   "cell_type": "markdown",
   "metadata": {
    "id": "S0LPy8bQU89J"
   },
   "source": [
    "## STEP 3: Simple Linear Regression"
   ]
  },
  {
   "cell_type": "code",
   "execution_count": 13,
   "metadata": {
    "id": "IGQeYPIVVGEj"
   },
   "outputs": [],
   "source": [
    "import numpy as np"
   ]
  },
  {
   "cell_type": "markdown",
   "metadata": {
    "id": "i9YDznMfVJDJ"
   },
   "source": [
    "**A coder 3.1**\n",
    "\n",
    "Sélectionnez l'espérance de vie et la composition des revenus des ressources du Belarus, de Madagascar, de l'Inde et de la Lituanie. Ce nouveau cadre de données s'appellera df_study."
   ]
  },
  {
   "cell_type": "code",
   "execution_count": 14,
   "metadata": {
    "id": "5qPFHI2bVPxz"
   },
   "outputs": [
    {
     "data": {
      "text/html": [
       "<div>\n",
       "<style scoped>\n",
       "    .dataframe tbody tr th:only-of-type {\n",
       "        vertical-align: middle;\n",
       "    }\n",
       "\n",
       "    .dataframe tbody tr th {\n",
       "        vertical-align: top;\n",
       "    }\n",
       "\n",
       "    .dataframe thead th {\n",
       "        text-align: right;\n",
       "    }\n",
       "</style>\n",
       "<table border=\"1\" class=\"dataframe\">\n",
       "  <thead>\n",
       "    <tr style=\"text-align: right;\">\n",
       "      <th></th>\n",
       "      <th>Life_expectancy</th>\n",
       "      <th>Income_composition_of_resources</th>\n",
       "    </tr>\n",
       "  </thead>\n",
       "  <tbody>\n",
       "    <tr>\n",
       "      <th>225</th>\n",
       "      <td>72.0</td>\n",
       "      <td>0.796</td>\n",
       "    </tr>\n",
       "    <tr>\n",
       "      <th>226</th>\n",
       "      <td>71.7</td>\n",
       "      <td>0.796</td>\n",
       "    </tr>\n",
       "    <tr>\n",
       "      <th>227</th>\n",
       "      <td>71.9</td>\n",
       "      <td>0.793</td>\n",
       "    </tr>\n",
       "    <tr>\n",
       "      <th>228</th>\n",
       "      <td>72.0</td>\n",
       "      <td>0.787</td>\n",
       "    </tr>\n",
       "    <tr>\n",
       "      <th>229</th>\n",
       "      <td>73.0</td>\n",
       "      <td>0.780</td>\n",
       "    </tr>\n",
       "    <tr>\n",
       "      <th>230</th>\n",
       "      <td>70.0</td>\n",
       "      <td>0.771</td>\n",
       "    </tr>\n",
       "    <tr>\n",
       "      <th>231</th>\n",
       "      <td>70.0</td>\n",
       "      <td>0.755</td>\n",
       "    </tr>\n",
       "    <tr>\n",
       "      <th>232</th>\n",
       "      <td>69.8</td>\n",
       "      <td>0.739</td>\n",
       "    </tr>\n",
       "    <tr>\n",
       "      <th>233</th>\n",
       "      <td>68.9</td>\n",
       "      <td>0.723</td>\n",
       "    </tr>\n",
       "    <tr>\n",
       "      <th>234</th>\n",
       "      <td>68.1</td>\n",
       "      <td>0.713</td>\n",
       "    </tr>\n",
       "    <tr>\n",
       "      <th>235</th>\n",
       "      <td>68.2</td>\n",
       "      <td>0.703</td>\n",
       "    </tr>\n",
       "    <tr>\n",
       "      <th>236</th>\n",
       "      <td>67.7</td>\n",
       "      <td>0.695</td>\n",
       "    </tr>\n",
       "    <tr>\n",
       "      <th>237</th>\n",
       "      <td>67.2</td>\n",
       "      <td>0.687</td>\n",
       "    </tr>\n",
       "    <tr>\n",
       "      <th>238</th>\n",
       "      <td>67.7</td>\n",
       "      <td>0.681</td>\n",
       "    </tr>\n",
       "    <tr>\n",
       "      <th>239</th>\n",
       "      <td>68.0</td>\n",
       "      <td>0.675</td>\n",
       "    </tr>\n",
       "    <tr>\n",
       "      <th>1187</th>\n",
       "      <td>68.0</td>\n",
       "      <td>0.607</td>\n",
       "    </tr>\n",
       "    <tr>\n",
       "      <th>1188</th>\n",
       "      <td>67.6</td>\n",
       "      <td>0.599</td>\n",
       "    </tr>\n",
       "    <tr>\n",
       "      <th>1189</th>\n",
       "      <td>67.3</td>\n",
       "      <td>0.590</td>\n",
       "    </tr>\n",
       "    <tr>\n",
       "      <th>1190</th>\n",
       "      <td>66.8</td>\n",
       "      <td>0.580</td>\n",
       "    </tr>\n",
       "    <tr>\n",
       "      <th>1191</th>\n",
       "      <td>66.4</td>\n",
       "      <td>0.569</td>\n",
       "    </tr>\n",
       "    <tr>\n",
       "      <th>1192</th>\n",
       "      <td>66.0</td>\n",
       "      <td>0.563</td>\n",
       "    </tr>\n",
       "    <tr>\n",
       "      <th>1193</th>\n",
       "      <td>65.5</td>\n",
       "      <td>0.556</td>\n",
       "    </tr>\n",
       "    <tr>\n",
       "      <th>1194</th>\n",
       "      <td>65.2</td>\n",
       "      <td>0.546</td>\n",
       "    </tr>\n",
       "    <tr>\n",
       "      <th>1195</th>\n",
       "      <td>64.8</td>\n",
       "      <td>0.536</td>\n",
       "    </tr>\n",
       "    <tr>\n",
       "      <th>1196</th>\n",
       "      <td>64.4</td>\n",
       "      <td>0.526</td>\n",
       "    </tr>\n",
       "    <tr>\n",
       "      <th>1197</th>\n",
       "      <td>64.0</td>\n",
       "      <td>0.518</td>\n",
       "    </tr>\n",
       "    <tr>\n",
       "      <th>1523</th>\n",
       "      <td>73.4</td>\n",
       "      <td>0.841</td>\n",
       "    </tr>\n",
       "    <tr>\n",
       "      <th>1524</th>\n",
       "      <td>73.0</td>\n",
       "      <td>0.834</td>\n",
       "    </tr>\n",
       "    <tr>\n",
       "      <th>1525</th>\n",
       "      <td>73.0</td>\n",
       "      <td>0.830</td>\n",
       "    </tr>\n",
       "    <tr>\n",
       "      <th>1526</th>\n",
       "      <td>72.8</td>\n",
       "      <td>0.826</td>\n",
       "    </tr>\n",
       "    <tr>\n",
       "      <th>1527</th>\n",
       "      <td>72.4</td>\n",
       "      <td>0.824</td>\n",
       "    </tr>\n",
       "    <tr>\n",
       "      <th>1528</th>\n",
       "      <td>72.2</td>\n",
       "      <td>0.825</td>\n",
       "    </tr>\n",
       "    <tr>\n",
       "      <th>1529</th>\n",
       "      <td>71.1</td>\n",
       "      <td>0.820</td>\n",
       "    </tr>\n",
       "    <tr>\n",
       "      <th>1530</th>\n",
       "      <td>72.0</td>\n",
       "      <td>0.812</td>\n",
       "    </tr>\n",
       "    <tr>\n",
       "      <th>1531</th>\n",
       "      <td>76.0</td>\n",
       "      <td>0.807</td>\n",
       "    </tr>\n",
       "    <tr>\n",
       "      <th>1532</th>\n",
       "      <td>78.0</td>\n",
       "      <td>0.798</td>\n",
       "    </tr>\n",
       "    <tr>\n",
       "      <th>1533</th>\n",
       "      <td>71.6</td>\n",
       "      <td>0.792</td>\n",
       "    </tr>\n",
       "    <tr>\n",
       "      <th>1534</th>\n",
       "      <td>71.6</td>\n",
       "      <td>0.780</td>\n",
       "    </tr>\n",
       "    <tr>\n",
       "      <th>1535</th>\n",
       "      <td>71.4</td>\n",
       "      <td>0.770</td>\n",
       "    </tr>\n",
       "    <tr>\n",
       "      <th>1536</th>\n",
       "      <td>71.2</td>\n",
       "      <td>0.757</td>\n",
       "    </tr>\n",
       "    <tr>\n",
       "      <th>1537</th>\n",
       "      <td>71.6</td>\n",
       "      <td>0.745</td>\n",
       "    </tr>\n",
       "    <tr>\n",
       "      <th>1555</th>\n",
       "      <td>65.1</td>\n",
       "      <td>0.509</td>\n",
       "    </tr>\n",
       "    <tr>\n",
       "      <th>1556</th>\n",
       "      <td>64.7</td>\n",
       "      <td>0.508</td>\n",
       "    </tr>\n",
       "    <tr>\n",
       "      <th>1557</th>\n",
       "      <td>64.3</td>\n",
       "      <td>0.506</td>\n",
       "    </tr>\n",
       "    <tr>\n",
       "      <th>1558</th>\n",
       "      <td>63.8</td>\n",
       "      <td>0.504</td>\n",
       "    </tr>\n",
       "    <tr>\n",
       "      <th>1559</th>\n",
       "      <td>63.3</td>\n",
       "      <td>0.503</td>\n",
       "    </tr>\n",
       "    <tr>\n",
       "      <th>1560</th>\n",
       "      <td>62.8</td>\n",
       "      <td>0.500</td>\n",
       "    </tr>\n",
       "    <tr>\n",
       "      <th>1561</th>\n",
       "      <td>62.3</td>\n",
       "      <td>0.491</td>\n",
       "    </tr>\n",
       "    <tr>\n",
       "      <th>1562</th>\n",
       "      <td>61.9</td>\n",
       "      <td>0.483</td>\n",
       "    </tr>\n",
       "    <tr>\n",
       "      <th>1563</th>\n",
       "      <td>61.4</td>\n",
       "      <td>0.478</td>\n",
       "    </tr>\n",
       "    <tr>\n",
       "      <th>1564</th>\n",
       "      <td>69.0</td>\n",
       "      <td>0.473</td>\n",
       "    </tr>\n",
       "    <tr>\n",
       "      <th>1565</th>\n",
       "      <td>64.0</td>\n",
       "      <td>0.466</td>\n",
       "    </tr>\n",
       "    <tr>\n",
       "      <th>1566</th>\n",
       "      <td>59.9</td>\n",
       "      <td>0.457</td>\n",
       "    </tr>\n",
       "    <tr>\n",
       "      <th>1567</th>\n",
       "      <td>59.3</td>\n",
       "      <td>0.462</td>\n",
       "    </tr>\n",
       "  </tbody>\n",
       "</table>\n",
       "</div>"
      ],
      "text/plain": [
       "      Life_expectancy  Income_composition_of_resources\n",
       "225              72.0                            0.796\n",
       "226              71.7                            0.796\n",
       "227              71.9                            0.793\n",
       "228              72.0                            0.787\n",
       "229              73.0                            0.780\n",
       "230              70.0                            0.771\n",
       "231              70.0                            0.755\n",
       "232              69.8                            0.739\n",
       "233              68.9                            0.723\n",
       "234              68.1                            0.713\n",
       "235              68.2                            0.703\n",
       "236              67.7                            0.695\n",
       "237              67.2                            0.687\n",
       "238              67.7                            0.681\n",
       "239              68.0                            0.675\n",
       "1187             68.0                            0.607\n",
       "1188             67.6                            0.599\n",
       "1189             67.3                            0.590\n",
       "1190             66.8                            0.580\n",
       "1191             66.4                            0.569\n",
       "1192             66.0                            0.563\n",
       "1193             65.5                            0.556\n",
       "1194             65.2                            0.546\n",
       "1195             64.8                            0.536\n",
       "1196             64.4                            0.526\n",
       "1197             64.0                            0.518\n",
       "1523             73.4                            0.841\n",
       "1524             73.0                            0.834\n",
       "1525             73.0                            0.830\n",
       "1526             72.8                            0.826\n",
       "1527             72.4                            0.824\n",
       "1528             72.2                            0.825\n",
       "1529             71.1                            0.820\n",
       "1530             72.0                            0.812\n",
       "1531             76.0                            0.807\n",
       "1532             78.0                            0.798\n",
       "1533             71.6                            0.792\n",
       "1534             71.6                            0.780\n",
       "1535             71.4                            0.770\n",
       "1536             71.2                            0.757\n",
       "1537             71.6                            0.745\n",
       "1555             65.1                            0.509\n",
       "1556             64.7                            0.508\n",
       "1557             64.3                            0.506\n",
       "1558             63.8                            0.504\n",
       "1559             63.3                            0.503\n",
       "1560             62.8                            0.500\n",
       "1561             62.3                            0.491\n",
       "1562             61.9                            0.483\n",
       "1563             61.4                            0.478\n",
       "1564             69.0                            0.473\n",
       "1565             64.0                            0.466\n",
       "1566             59.9                            0.457\n",
       "1567             59.3                            0.462"
      ]
     },
     "execution_count": 14,
     "metadata": {},
     "output_type": "execute_result"
    }
   ],
   "source": [
    "df_study = df[(df.Country == \"Belarus\") | (df.Country == \"Madagascar\") | (df.Country == \"India\") | (df.Country == \"Belarus\") | (df.Country == \"Lithuania\")]\n",
    "df_study = df_study[['Life_expectancy', 'Income_composition_of_resources']]\n",
    "df_study"
   ]
  },
  {
   "cell_type": "markdown",
   "metadata": {
    "id": "_PKXxl6KVVx2"
   },
   "source": [
    "**A coder 3.2**\n",
    "\n",
    "Mettez en œuvre une fonction linéaire des moindres carrés et appliquez-la aux données sélectionnées précédemment."
   ]
  },
  {
   "cell_type": "code",
   "execution_count": 15,
   "metadata": {
    "id": "JSv6B7r8VeCO"
   },
   "outputs": [
    {
     "name": "stdout",
     "output_type": "stream",
     "text": [
      "Coefficient de pente : 28.5982261406769\n",
      "Ordonnée à l'origine : 49.34763518833232\n"
     ]
    }
   ],
   "source": [
    "#écart type / covariance\n",
    "mean_x = df_study['Income_composition_of_resources'].mean() \n",
    "mean_y = df_study['Life_expectancy'].mean()\n",
    "\n",
    "x_ecart = df_study['Income_composition_of_resources'] - mean_x\n",
    "y_ecart = df_study['Life_expectancy'] - mean_y\n",
    "\n",
    "cov = x_ecart*y_ecart\n",
    "var = x_ecart**2\n",
    "\n",
    "a = cov.sum()/var.sum() # coefficient directeur \n",
    "b = mean_y-a*mean_x # ordonné à l'origine\n",
    "\n",
    "print(\"Coefficient de pente :\", a)\n",
    "print(\"Ordonnée à l'origine :\", b)\n",
    "\n",
    "# de la forme ax + b\n",
    "y =  a * df_study.Income_composition_of_resources + b "
   ]
  },
  {
   "cell_type": "code",
   "execution_count": 16,
   "metadata": {},
   "outputs": [
    {
     "data": {
      "image/png": "[encoded data removed]",
      "text/plain": [
       "<Figure size 640x480 with 1 Axes>"
      ]
     },
     "metadata": {},
     "output_type": "display_data"
    }
   ],
   "source": [
    "# Avec la question précédente, nous pouvons afficher le nuage de points\n",
    "plt.scatter(df_study.Income_composition_of_resources, df_study.Life_expectancy, label='Valeurs', color = 'blue', alpha = 0.5, linewidths = 0)\n",
    "plt.title('Regression linéaire'), plt.xlabel('Income composition of resources'), plt.ylabel('Life expectancy'), plt.legend()\n",
    "plt.show()"
   ]
  },
  {
   "cell_type": "markdown",
   "metadata": {},
   "source": [
    "**A coder 3.3**\n",
    "\n",
    "Sur la même figure, tracez la ligne correspondant au résultat précédent et les points de données correspondant à df_study\n"
   ]
  },
  {
   "cell_type": "code",
   "execution_count": 17,
   "metadata": {},
   "outputs": [
    {
     "data": {
      "image/png": "[encoded data removed]",
      "text/plain": [
       "<Figure size 640x480 with 1 Axes>"
      ]
     },
     "metadata": {},
     "output_type": "display_data"
    }
   ],
   "source": [
    "\n",
    "plt.scatter(df_study.Income_composition_of_resources, df_study.Life_expectancy, label='Valeurs', color = 'blue', alpha = 0.5, linewidths = 0)\n",
    "plt.plot(df_study.Income_composition_of_resources, y, color = 'red', label='Régression')\n",
    "plt.title('Regression linéaire'), plt.xlabel('Income composition of resources'), plt.ylabel('Life expectancy'), plt.legend()\n",
    "plt.show()"
   ]
  },
  {
   "cell_type": "markdown",
   "metadata": {
    "id": "rN969VMTVi7U"
   },
   "source": [
    "**A coder 3.4**\n",
    "\n",
    "Maintenant, implémentez une fonction de descente de gradient `def gradDescent(x, y, theta, alpha, iters)` où `x` correspond aux covariables, `y` la valeur cible, `theta` les poids initiaux, `alpha` le taux d'apprentissage et `iters` le nombre d'itérations de descente de gradient. \n",
    "\n",
    "Pour rappel, la descente de gradient est un algorithme d'optimisation de recherche d'un minimum local au sein d'une fonction differentiable. Il s'agit d'un algorithme iteratif qui cherche à trouver les `w` qui minimisent notre fonction objectif. Étant donné que l'on cherche à minimiser l'erreur quadratique, on cherche à minimiser la fonction : $L(y, \\hat{y})=\\sum\\limits_{i=1}^n (y_i - w_1x_i-w_0)^2 $\n",
    "\n",
    "\n",
    "Étant donné que la fonction précédente est convexe, sa dérivée en chaque point nous indique la direction **opposée** du minimum. Ainsi, l'idée est de mettre à jour chaque poids d'une petite proportion ($\\alpha$) de cette direction : $w_i^{t+1} = w_i^t - \\alpha \\frac{d(L(y, \\hat{y}))}{d(w_i)}$\n",
    "\n",
    "Attention : ici, on cherche à mettre à jour 2 poids, w_0 et w_1, on doit donc calculer les 2 dérivées partielles. Faites également attention au fait que la dérivée est calculée selon les $w_i$. Enfin, une fois tout cela remarqué, le calcul de la dérivée est finalement assez simple.\n"
   ]
  },
  {
   "cell_type": "code",
   "execution_count": 18,
   "metadata": {
    "id": "j2r8IGYSVoL_"
   },
   "outputs": [],
   "source": [
    "def gradDescent_a(x, y, theta, alpha, iters): \n",
    "    # pour déterminer l'écart, nous devons soustraire x à sa valeur moyenne \n",
    "    x_ecart = x - x.mean() \n",
    "    y_ecart = y - y.mean()\n",
    "\n",
    "    covariance = (x_ecart*y_ecart).sum()\n",
    "    variance = (x_ecart**2).sum()\n",
    "\n",
    "    for i in range(iters):\n",
    "        gSSE = 2*covariance - 2*variance*theta\n",
    "        theta = theta + alpha * gSSE\n",
    "    return theta"
   ]
  },
  {
   "cell_type": "markdown",
   "metadata": {
    "id": "VQpG25CiVzWM"
   },
   "source": [
    "**TO CODE 3.5**\n",
    "\n",
    "Calculer la descente du gradient sur df\\_study pour 1000 itérations avec différentes valeurs de alpha. Vous pouvez initialiser `theta` avec `theta_0 = 0` et `theta_1 = 1`."
   ]
  },
  {
   "cell_type": "code",
   "execution_count": 19,
   "metadata": {
    "id": "UcBnQMNAWDll"
   },
   "outputs": [
    {
     "data": {
      "text/plain": [
       "28.59822614067687"
      ]
     },
     "execution_count": 19,
     "metadata": {},
     "output_type": "execute_result"
    }
   ],
   "source": [
    "gradDescent_a(df_study.Income_composition_of_resources, df_study.Life_expectancy, 0, 1, 1000)"
   ]
  },
  {
   "cell_type": "markdown",
   "metadata": {
    "id": "AX03byhrWJvJ"
   },
   "source": [
    "**TO CODE 3.6**\n",
    "\n",
    "Sur la même figure, tracez l'évolution de `theta_0` à travers les itérations pour chaque valeur différente d'alpha que vous avez choisie. Faites la même chose pour `theta_1`."
   ]
  },
  {
   "cell_type": "code",
   "execution_count": 20,
   "metadata": {
    "id": "aqSKwaxEWVoU"
   },
   "outputs": [
    {
     "data": {
      "text/plain": [
       "(Text(0.5, 1.0, 'Approx w1'),\n",
       " Text(0.5, 0, 'Itérations'),\n",
       " Text(0, 0.5, 'w1'),\n",
       " <matplotlib.legend.Legend at 0x7fabe5e585b0>)"
      ]
     },
     "execution_count": 20,
     "metadata": {},
     "output_type": "execute_result"
    },
    {
     "data": {
      "image/png": "[encoded data removed]",
      "text/plain": [
       "<Figure size 1500x500 with 2 Axes>"
      ]
     },
     "metadata": {},
     "output_type": "display_data"
    }
   ],
   "source": [
    "def gradDescentPlot(x, y, theta, alpha, iters): #theta est un tableau contenant a et b initiaux\n",
    "    x_2 = (x*x).sum()\n",
    "    x_y = (x*y).sum()\n",
    "    x_ = x.sum()\n",
    "    y_ = y.sum()\n",
    "\n",
    "    l = len(x)\n",
    "    PlotThet0 = [theta[0]]\n",
    "    PlotThet1 = [theta[1]]\n",
    "    iteration = [0]\n",
    "\n",
    "    for i in range(iters):\n",
    "        n_theta0 = theta[0] + 2*alpha*(y_ - theta[1]*x_ - theta[0]*l)\n",
    "        n_theta1 = theta[1] + 2*alpha*(x_y - theta[1]*x_2 - theta[0]*x_)\n",
    "        \n",
    "        theta[0] = n_theta0\n",
    "        theta[1] = n_theta1\n",
    "\n",
    "        PlotThet0.append(n_theta0)\n",
    "        PlotThet1.append(n_theta1)\n",
    "        iteration.append(i)\n",
    "    return(PlotThet0, PlotThet1, iteration)\n",
    "\n",
    "\n",
    "(PT0_1, PT1_1, ite_1) = gradDescentPlot(df_study.Income_composition_of_resources, df_study.Life_expectancy, [0, 1], 0.01, 80)\n",
    "(PT0_2, PT1_2, ite_2) = gradDescentPlot(df_study.Income_composition_of_resources, df_study.Life_expectancy, [0, 1], 0.001, 80)\n",
    "(PT0_3, PT1_3, ite_3) = gradDescentPlot(df_study.Income_composition_of_resources, df_study.Life_expectancy, [0, 1], 0.0001, 80)\n",
    "(PT0_4, PT1_4, ite_4) = gradDescentPlot(df_study.Income_composition_of_resources, df_study.Life_expectancy, [0, 1], 0.003, 80)\n",
    "\n",
    "plt.figure(figsize=(15, 5))\n",
    "\n",
    "plt.subplot(121)\n",
    "plt.plot(ite_1, PT0_1, color = 'red', label='alpha=0.01')\n",
    "plt.plot(ite_2, PT0_2, color = 'yellow', label='alpha=0.001')\n",
    "plt.plot(ite_3, PT0_3, color = 'blue', label='alpha=0.0001')\n",
    "plt.plot(ite_4, PT0_4, color = 'green', label='alpha=0.003')\n",
    "\n",
    "plt.title('Approx w0'), plt.xlabel('Itérations'), plt.ylabel('w0'), plt.legend()\n",
    "\n",
    "plt.subplot(122)\n",
    "plt.plot(ite_1, PT1_1, color = 'red', label='alpha=0.01')\n",
    "plt.plot(ite_2, PT1_2, color = 'yellow', label='alpha=0.001')\n",
    "plt.plot(ite_3, PT1_3, color = 'blue', label='alpha=0.0001')\n",
    "plt.plot(ite_4, PT1_4, color = 'green', label='alpha=0.003')\n",
    "\n",
    "plt.title('Approx w1'), plt.xlabel('Itérations'), plt.ylabel('w1'), plt.legend()"
   ]
  },
  {
   "cell_type": "markdown",
   "metadata": {
    "id": "5zgsbk04We9F"
   },
   "source": [
    "**Question 7**\n",
    "\n",
    "Discutez du rôle d'alpha.\n",
    "\n",
    "$\\alpha$ symbole la  la vitesse à laquelle la fonction se stabilise (solution optimale)."
   ]
  },
  {
   "cell_type": "markdown",
   "metadata": {
    "id": "iOo29xisWxRo"
   },
   "source": [
    "**A coder 3.7**\n",
    "\n",
    "Calculez le score $R^2$ pour la régression sur df_étude. Vous pouvez trouver une fonction sklearn [ici](https://scikit-learn.org/stable/modules/generated/sklearn.metrics.r2_score.html).\n",
    "\n",
    "```\n",
    "sklearn.metrics.r2_score(y_true, y_pred, *, sample_weight=None, multioutput='uniform_average')\n",
    "```\n",
    "\n",
    "With:\n",
    "\n",
    "**y_true** array-like of shape (n_samples,) or (n_samples, n_outputs)\n",
    "\n",
    "Ground truth (correct) target values.\n",
    "\n",
    "**y_pred** array-like of shape (n_samples,) or (n_samples, n_outputs)\n",
    "\n",
    "Estimated target values.\n",
    "\n",
    "**sample_weight** array-like of shape (n_samples,), default=None\n",
    "\n",
    "Sample weights.\n",
    "\n",
    "**multioutput** {‘raw_values’, ‘uniform_average’, ‘variance_weighted’}, array-like of shape (n_outputs,) or None, default=’uniform_average’\n",
    "\n",
    "Defines aggregating of multiple output scores. Array-like value defines weights used to average scores. Default is “uniform_average”.\n",
    "\n",
    "- ‘raw_values’: Returns a full set of scores in case of multioutput input.\n",
    "\n",
    "- ‘uniform_average’: Scores of all outputs are averaged with uniform weight.\n",
    "\n",
    "- ‘variance_weighted’: Scores of all outputs are averaged, weighted by the variances of each individual output.\n"
   ]
  },
  {
   "cell_type": "code",
   "execution_count": 21,
   "metadata": {
    "id": "NG9YymF4X5oN"
   },
   "outputs": [],
   "source": [
    "from sklearn.metrics import r2_score"
   ]
  },
  {
   "cell_type": "code",
   "execution_count": 22,
   "metadata": {
    "id": "mJr-e5OlYSx7"
   },
   "outputs": [
    {
     "name": "stdout",
     "output_type": "stream",
     "text": [
      "0.846632270152281\n"
     ]
    }
   ],
   "source": [
    "R2 = r2_score(df_study['Life_expectancy'], y)\n",
    "print(R2)"
   ]
  },
  {
   "cell_type": "markdown",
   "metadata": {
    "id": "ypKuUxvNYbW7"
   },
   "source": [
    "**QUESTION 8**\n",
    "\n",
    "La régression linéaire est-elle appropriée entre les deux variables sélectionnées ?\n",
    "\n",
    "Le coefficient ne correspond pas à une droite ( coeff acceptable > 0.98). Cependant pour de vrai données et avec une assez forte dispersion, le coefficient est correcte."
   ]
  },
  {
   "cell_type": "markdown",
   "metadata": {
    "id": "gZY_AZShYfsH"
   },
   "source": [
    "**QUESTION 9**\n",
    "\n",
    "Si ce n'est pas le cas, quelle serait la régression pertinente entre ces deux variables ?\n",
    "\n",
    "Etant donné que la courbe n'est pas une droite, nous pourrions utiliser une régression polynomiale."
   ]
  },
  {
   "cell_type": "markdown",
   "metadata": {
    "id": "kIgB-0U2Yj2n"
   },
   "source": [
    "## STEP 4: Visualisation du diagnostique"
   ]
  },
  {
   "cell_type": "markdown",
   "metadata": {
    "id": "0yRPMeekYtH6"
   },
   "source": [
    "**TO CODE 4.1**\n",
    "\n",
    "Calculez les résidus et afficher les residus vs les valeurs predites."
   ]
  },
  {
   "cell_type": "code",
   "execution_count": 36,
   "metadata": {
    "id": "G4kPVXiyY4wv"
   },
   "outputs": [
    {
     "data": {
      "text/plain": [
       "(Text(0.5, 1.0, 'Résidus du modèle'),\n",
       " Text(0.5, 0, 'Income composition of resources'),\n",
       " Text(0, 0.5, 'Résidus de Life expectancy'),\n",
       " <matplotlib.legend.Legend at 0x7fab3cab9fc0>)"
      ]
     },
     "execution_count": 36,
     "metadata": {},
     "output_type": "execute_result"
    },
    {
     "data": {
      "image/png": "[encoded data removed]",
      "text/plain": [
       "<Figure size 640x480 with 1 Axes>"
      ]
     },
     "metadata": {},
     "output_type": "display_data"
    }
   ],
   "source": [
    "# écart de la valeur observé et la valeur prédite\n",
    "residus = df_study['Life_expectancy'] - (a*df_study['Income_composition_of_resources'] + b)\n",
    "plt.scatter(df_study['Income_composition_of_resources'], residus, label='Valeurs', color = 'blue', alpha = 0.7, linewidths = 0)\n",
    "plt.title('Résidus du modèle'), plt.xlabel('Income composition of resources'), plt.ylabel('Résidus de Life expectancy'), plt.legend()"
   ]
  },
  {
   "cell_type": "markdown",
   "metadata": {
    "id": "nsgqxxl_Y-E7"
   },
   "source": [
    "**Question 10**\n",
    "\n",
    "Que concluez vous de cet affichage ?\n",
    "Nous observons que la majorité des points ont une erreur résiduelle à environ 3%. Cependant on note la présence de quelques points qui ont une erreur résiduelle d'environ 10%, ce qui n'est pas négligeable. \n",
    "Malgré tout cela reste acceptable pour des valeurs réelles mais pas assez précises pour des études poussées.  "
   ]
  },
  {
   "cell_type": "markdown",
   "metadata": {
    "id": "xOY8y0NSZBoA"
   },
   "source": [
    "**TO CODE 4.2**\n",
    "\n",
    "Calculez également le Scale Location plot\n"
   ]
  },
  {
   "cell_type": "code",
   "execution_count": 39,
   "metadata": {
    "id": "p_1oTp4YZMfx"
   },
   "outputs": [
    {
     "data": {
      "text/plain": [
       "(Text(0.5, 1.0, 'Scale Location plot'),\n",
       " Text(0.5, 0, 'Income composition of resources'),\n",
       " Text(0, 0.5, ' racine des résidus'))"
      ]
     },
     "execution_count": 39,
     "metadata": {},
     "output_type": "execute_result"
    },
    {
     "data": {
      "image/png": "[encoded data removed]",
      "text/plain": [
       "<Figure size 640x480 with 1 Axes>"
      ]
     },
     "metadata": {},
     "output_type": "display_data"
    }
   ],
   "source": [
    "# Scale Location Plot permet de montre la répatitions équitables des résidus autour de notre regression linéaire\n",
    "scaloc = np.sqrt(np.abs(residus))\n",
    "plt.scatter(df_study['Income_composition_of_resources'], scaloc, color = 'blue', alpha = 0.7, linewidths = 0)\n",
    "plt.title('Scale Location plot'), plt.xlabel('Income composition of resources'), plt.ylabel(' Racine des résidus')"
   ]
  },
  {
   "cell_type": "markdown",
   "metadata": {
    "id": "SxNYtuGgZNh1"
   },
   "source": [
    "**Question 11**\n",
    "\n",
    "Que concluez vous de cet affichage ?\n",
    "\n",
    "Ca permet de visualiser la distance entre la regression linéaire et les résidus. Nous pouvons approximer une distance entre 0 et 1 avec quelques exceptions supérieur à 1.5 \n",
    "Nous pouvons,alors, modéliser la zone de fonctionnement du modele"
   ]
  },
  {
   "cell_type": "markdown",
   "metadata": {},
   "source": [
    "**TO CODE 4.3**\n",
    "\n",
    "Compute now the Cook's distance for our data. You can compute it by yourself of use any library you can find.\n"
   ]
  },
  {
   "cell_type": "code",
   "execution_count": 85,
   "metadata": {
    "id": "mwNrichRZVrl"
   },
   "outputs": [
    {
     "data": {
      "text/plain": [
       "(Text(0.5, 1.0, 'Distance de cook'),\n",
       " Text(0.5, 0, 'Income composition of resources'),\n",
       " Text(0, 0.5, \" cook's distance\"))"
      ]
     },
     "execution_count": 85,
     "metadata": {},
     "output_type": "execute_result"
    },
    {
     "data": {
      "image/png": "[encoded data removed]",
      "text/plain": [
       "<Figure size 800x550 with 1 Axes>"
      ]
     },
     "metadata": {},
     "output_type": "display_data"
    }
   ],
   "source": [
    "import numpy as np\n",
    "\n",
    "#Nous avons décidé d'utiliser le calcul des distances de cook à la main car aucune librairie ne fonctionnaient. \n",
    "\n",
    "# On convertit 'Income_composition_of_resources' vers un vecteur colonne\n",
    "A = df_study['Income_composition_of_resources'].values.reshape(-1, 1)\n",
    "\n",
    "# On le transpose pour avoir un vecteur ligne\n",
    "T = A.T\n",
    "\n",
    "# On calcule la matrice de leverage qu'on appellera H\n",
    "H = A @ np.linalg.pinv(T @ A) @ T\n",
    "# On la diagonalise\n",
    "h_ii = np.diag(H)\n",
    "\n",
    "# Ensuite on calcule le Mean Squared Error (MSE)\n",
    "MSE = np.mean(residus**2)\n",
    "\n",
    "# Puis la distance de cook pour chaque observation\n",
    "p = 54  # Le nombres de coefficients\n",
    "cooks_d = (residus**2 / (p * MSE)) * (h_ii / (1 - h_ii)**2)\n",
    "\n",
    "plt.scatter(df_study['Income_composition_of_resources'], cooks_d, color = 'blue', alpha = 0.7, linewidths = 0)\n",
    "plt.title('Distance de cook'), plt.xlabel('Income composition of resources'), plt.ylabel(' cook\\'s distance')\n"
   ]
  },
  {
   "cell_type": "markdown",
   "metadata": {
    "id": "9qbf0s6kZeS9"
   },
   "source": [
    "**Question 12**\n",
    "\n",
    "Que concluez vous de cet affichage ?\n",
    "\n",
    "Le CooksDistancevisualiseur affiche un diagramme en batons de toutes les instances par index et leur score de distance associé, ainsi qu'un seuil heuristique pour montrer rapidement quel pourcentage de l'ensemble de données peut avoir un impact sur le modèle de régression."
   ]
  },
  {
   "cell_type": "markdown",
   "metadata": {
    "id": "4qQ40qDgaJau"
   },
   "source": [
    "**TO DO 4.1** \n",
    "\n",
    "On souhaite désormais ajouter plusieurs variable à notre problème de régression. Exécutez la cellule suivante pour prendre en compte différente variable dans notre modèle.\n"
   ]
  },
  {
   "cell_type": "code",
   "execution_count": 86,
   "metadata": {
    "id": "Bffq5PqBaN_z"
   },
   "outputs": [],
   "source": [
    "from sklearn.preprocessing import scale\n",
    "from sklearn.model_selection import train_test_split\n",
    "from sklearn.linear_model import Ridge, Lasso\n",
    "from sklearn.metrics import mean_squared_error\n",
    "\n",
    "df_study = df[(df.Country == \"Belarus\") | (df.Country == \"Madagascar\") | (df.Country == \"India\") | (df.Country == \"Lithuania\")]\n",
    "y = df_study.Life_expectancy\n",
    "X = df_study[['Adult_mortality', 'Alcohol', 'Total_expenditure', 'Income_composition_of_resources', 'Schooling', \"HIV_AIDS\"]].to_numpy(dtype='float64')"
   ]
  },
  {
   "cell_type": "markdown",
   "metadata": {},
   "source": [
    "**TO CODE 4.4**\n",
    "\n",
    "Traiter de trop nombreuses variables peut parfois être contre-producttif, et il peut être intéressant de retirer certaines caractéristiques. Une manière d'évaluer l'importante de chaque variable est de calculer le `f_test`, nommée f_regression avec sklearn. \n",
    "\n"
   ]
  },
  {
   "cell_type": "code",
   "execution_count": 101,
   "metadata": {},
   "outputs": [
    {
     "data": {
      "text/html": [
       "<div>\n",
       "<style scoped>\n",
       "    .dataframe tbody tr th:only-of-type {\n",
       "        vertical-align: middle;\n",
       "    }\n",
       "\n",
       "    .dataframe tbody tr th {\n",
       "        vertical-align: top;\n",
       "    }\n",
       "\n",
       "    .dataframe thead th {\n",
       "        text-align: right;\n",
       "    }\n",
       "</style>\n",
       "<table border=\"1\" class=\"dataframe\">\n",
       "  <thead>\n",
       "    <tr style=\"text-align: right;\">\n",
       "      <th></th>\n",
       "      <th>Feature</th>\n",
       "      <th>F-value</th>\n",
       "      <th>p-value</th>\n",
       "    </tr>\n",
       "  </thead>\n",
       "  <tbody>\n",
       "    <tr>\n",
       "      <th>0</th>\n",
       "      <td>Feature 0</td>\n",
       "      <td>3.864442</td>\n",
       "      <td>5.466967e-02</td>\n",
       "    </tr>\n",
       "    <tr>\n",
       "      <th>1</th>\n",
       "      <td>Feature 1</td>\n",
       "      <td>125.092813</td>\n",
       "      <td>1.891968e-15</td>\n",
       "    </tr>\n",
       "    <tr>\n",
       "      <th>2</th>\n",
       "      <td>Feature 2</td>\n",
       "      <td>36.729420</td>\n",
       "      <td>1.545113e-07</td>\n",
       "    </tr>\n",
       "    <tr>\n",
       "      <th>3</th>\n",
       "      <td>Feature 3</td>\n",
       "      <td>287.054376</td>\n",
       "      <td>8.047139e-23</td>\n",
       "    </tr>\n",
       "    <tr>\n",
       "      <th>4</th>\n",
       "      <td>Feature 4</td>\n",
       "      <td>261.508960</td>\n",
       "      <td>6.212050e-22</td>\n",
       "    </tr>\n",
       "    <tr>\n",
       "      <th>5</th>\n",
       "      <td>Feature 5</td>\n",
       "      <td>106.622723</td>\n",
       "      <td>3.395111e-14</td>\n",
       "    </tr>\n",
       "  </tbody>\n",
       "</table>\n",
       "</div>"
      ],
      "text/plain": [
       "     Feature     F-value       p-value\n",
       "0  Feature 0    3.864442  5.466967e-02\n",
       "1  Feature 1  125.092813  1.891968e-15\n",
       "2  Feature 2   36.729420  1.545113e-07\n",
       "3  Feature 3  287.054376  8.047139e-23\n",
       "4  Feature 4  261.508960  6.212050e-22\n",
       "5  Feature 5  106.622723  3.395111e-14"
      ]
     },
     "execution_count": 101,
     "metadata": {},
     "output_type": "execute_result"
    }
   ],
   "source": [
    "from sklearn.feature_selection import f_regression\n",
    "\n",
    "f_values, p_values = f_regression(X , y)\n",
    "df = pd.DataFrame({\n",
    "    'Feature' : [f'Feature {i}'for i in range(X.shape[1])],\n",
    "     'F-value' : f_values,\n",
    "     'p-value' : p_values\n",
    "     })\n",
    "df"
   ]
  },
  {
   "cell_type": "markdown",
   "metadata": {},
   "source": [
    "**QUESTION 13**\n",
    "\n",
    "En fonction du résultat du f_test, triez chaque variable de la moins interessante à la plus intéressante. Comparez ce résultat avec la correlation de votre sous-ensemble."
   ]
  },
  {
   "cell_type": "code",
   "execution_count": 103,
   "metadata": {},
   "outputs": [
    {
     "ename": "NameError",
     "evalue": "name 'i' is not defined",
     "output_type": "error",
     "traceback": [
      "\u001b[0;31m---------------------------------------------------------------------------\u001b[0m",
      "\u001b[0;31mNameError\u001b[0m                                 Traceback (most recent call last)",
      "Cell \u001b[0;32mIn[103], line 4\u001b[0m\n\u001b[1;32m      1\u001b[0m sorted_indices \u001b[38;5;241m=\u001b[39m np\u001b[38;5;241m.\u001b[39margsort(f_values)[::\u001b[38;5;241m-\u001b[39m\u001b[38;5;241m1\u001b[39m]\n\u001b[1;32m      2\u001b[0m di \u001b[38;5;241m=\u001b[39m pd\u001b[38;5;241m.\u001b[39mDataFrame({\n\u001b[1;32m      3\u001b[0m     \u001b[38;5;124m'\u001b[39m\u001b[38;5;124mFeature\u001b[39m\u001b[38;5;124m'\u001b[39m : [\u001b[38;5;124mf\u001b[39m\u001b[38;5;124m'\u001b[39m\u001b[38;5;124mFeature \u001b[39m\u001b[38;5;132;01m{\u001b[39;00mi\u001b[38;5;132;01m}\u001b[39;00m\u001b[38;5;124m'\u001b[39m\u001b[38;5;28;01mfor\u001b[39;00m i \u001b[38;5;129;01min\u001b[39;00m sorted_indices],\n\u001b[0;32m----> 4\u001b[0m      \u001b[38;5;124m'\u001b[39m\u001b[38;5;124mF-value\u001b[39m\u001b[38;5;124m'\u001b[39m : sorted_indices[\u001b[43mi\u001b[49m],\n\u001b[1;32m      5\u001b[0m      \u001b[38;5;124m'\u001b[39m\u001b[38;5;124mp-value\u001b[39m\u001b[38;5;124m'\u001b[39m : p_values\n\u001b[1;32m      6\u001b[0m      })\n\u001b[1;32m      7\u001b[0m di\n",
      "\u001b[0;31mNameError\u001b[0m: name 'i' is not defined"
     ]
    }
   ],
   "source": [
    "sorted_indices = np.argsort(f_values)[::-1]\n",
    "di = pd.DataFrame({\n",
    "    'Feature' : [f'Feature {i}'for i in sorted_indices],\n",
    "     'F-value' : sorted_indices[i],\n",
    "     'p-value' : p_values\n",
    "     })\n",
    "di"
   ]
  },
  {
   "cell_type": "markdown",
   "metadata": {},
   "source": [
    "f_values : Une valeur plus élevée suggère que la caractéristique est plus \"utile\" ou \"pertinente\" pour expliquer la variance dans la variable cible, par rapport à un modèle sans cette caractéristique.\n",
    "\n",
    "p_values : Une valeur faible (typiquement inférieure à 0,05) suggère que l'effet de la caractéristique sur la variable cible est statistiquement significatif. Aalors on rejette l'hypothèse nulle que la caractéristique n'a pas d'effet sur la variable cible\n",
    "\n",
    "Dans notre cas la Feature 3 est  la plus interessante ."
   ]
  }
 ],
 "metadata": {
  "colab": {
   "name": "TP1_LinearRegression.ipynb",
   "provenance": []
  },
  "kernelspec": {
   "display_name": "2A_ML_Kernel",
   "language": "python",
   "name": "2a_ml_kernel"
  },
  "language_info": {
   "codemirror_mode": {
    "name": "ipython",
    "version": 3
   },
   "file_extension": ".py",
   "mimetype": "text/x-python",
   "name": "python",
   "nbconvert_exporter": "python",
   "pygments_lexer": "ipython3",
   "version": "3.10.12"
  }
 },
 "nbformat": 4,
 "nbformat_minor": 4
}
